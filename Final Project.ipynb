{
 "cells": [
  {
   "cell_type": "markdown",
   "metadata": {
    "id": "OWmOlGLM60V2"
   },
   "source": [
    "# Fraud Detection and Stock Price Forecasting\n",
    "\n",
    "Gurdeep Panag (30101520)\n",
    "\n",
    "Harjot Dhaliwal (30051859)\n",
    "\n",
    "Lukas Escoda (30211208)\n",
    "\n",
    "Shabbir Khandwala (30219011)\n",
    "\n",
    "University of Calgary\n",
    "\n"
   ]
  },
  {
   "cell_type": "markdown",
   "metadata": {
    "id": "D3YyTE6C7OBl"
   },
   "source": [
    "## Introduction\n",
    "The primary aim of this project is to delve into two significant areas. The first area focuses on the detection of credit card fraud through the application of various machine learning models and neural networks. The objective here is to methodically compare these models to identify which one offers the most effective performance in recognizing and preventing fraudulent transactions. This comparative analysis will not only highlight the strengths and weaknesses of each model but also help in choosing the best-suited model for deployment in real-world scenarios.\n",
    "\n",
    "The second area of the project is centered on forecasting the price movements of the NASDAQ index using Recurrent Neural Networks (RNN), particularly Long Short-Term Memory (LSTM) networks. LSTMs are a specialized kind of RNNs renowned for their ability to capture long-term dependencies in time-series data, making them ideal for tasks such as financial forecasting. The project will involve developing a predictive model using LSTM networks and then evaluating its performance by comparing its predictions with the actual historical price data of the NASDAQ index.\n",
    "\n",
    "The NASDAQ (National Association of Securities Dealers Automated Quotations) is one of the largest and most well-known stock exchanges in the United States, primarily associated with the technology sector. It includes a broad spectrum of more than 3000 companies, ranging from tech giants like Apple and Google to emerging startups. The NASDAQ index is often seen as a key indicator of the health and trends within the tech industry and the broader stock market. By accurately predicting the movements of this index, investors and analysts can gain valuable insights into market trends and make more informed investment decisions.\n",
    "\n",
    "The results of this project are expected to contribute valuable insights into the effectiveness of advanced machine learning techniques in financial applications, ranging from fraud detection to market prediction. By comparing the outcomes of different models, this project aims to highlight the potential and limitations of current technological approaches in tackling complex issues in the financial domain."
   ]
  },
  {
   "cell_type": "markdown",
   "metadata": {
    "id": "50RP9PPR8Whu"
   },
   "source": [
    "## Dataset\n",
    "\n",
    "### Fraud Detection Dataset\n",
    " The dataset available on Kaggle, titled \"Fraud Detection in Credit Card Transactions,\" is an essential resource for developing and testing credit card fraud detection systems (Yashpal, 2022). This dataset is comprised of transactions made by credit cards in September 2013 by European cardholders. It presents transactions that occurred in two days, where 492 frauds are out of 284,807 transactions. The dataset is highly unbalanced, representing a typical scenario for real-world financial datasets, where fraudulent transactions are much rarer than legitimate ones.\n",
    "\n",
    "Each transaction in the dataset is described by 31 features, most of which are numerical input variables resulting from a PCA transformation. This was done to protect sensitive information. The features are labeled V1, V2, ..., V28, with 'Time' and 'Amount' being the only features not transformed. 'Time' contains the seconds elapsed between each transaction and the first transaction in the dataset, while 'Amount' is the transaction amount. The response variable, 'Class', is binary, where 1 indicates a fraudulent transaction and 0 indicates a non-fraudulent one.\n",
    "\n",
    "This anonymized and PCA-transformed dataset is widely used by researchers and practitioners to apply machine learning techniques, especially for training models to identify patterns that signify fraudulent activities effectively.\n",
    "<br>\n",
    "<br>\n",
    "\n",
    "### NASDAQ Index Price Dataset\n",
    "For the second part of our project, focusing on Recurrent Neural Networks (RNN), we will utilize the Yahoo Finance API to extract five years of closing price data for the NASDAQ index. This comprehensive dataset will enable us to develop and refine our predictive model using LSTM networks, aiming to accurately forecast future price movements based on historical trends."
   ]
  },
  {
   "cell_type": "markdown",
   "metadata": {
    "id": "0aZplxpR1F0T"
   },
   "source": [
    "# Fraud Detection\n",
    "\n",
    "For this segment, we'll leverage a fraud detection dataset to explore a variety of machine learning models, comparing their performances meticulously to ultimately select the most effective one."
   ]
  },
  {
   "cell_type": "code",
   "execution_count": null,
   "metadata": {
    "id": "8dLQy2xiW5Pb"
   },
   "outputs": [],
   "source": [
    "import pandas as pd\n",
    "import numpy as np\n",
    "import matplotlib.pyplot as plt\n",
    "import seaborn as sns\n",
    "import warnings\n",
    "import polars as ps\n",
    "from collections import Counter\n",
    "from sklearn.preprocessing import StandardScaler\n",
    "from sklearn.decomposition import PCA\n",
    "from sklearn.model_selection import train_test_split, RandomizedSearchCV, GridSearchCV\n",
    "\n",
    "warnings.filterwarnings('ignore')"
   ]
  },
  {
   "cell_type": "code",
   "execution_count": null,
   "metadata": {
    "colab": {
     "base_uri": "https://localhost:8080/",
     "height": 235
    },
    "id": "mOGych1WXCbC",
    "outputId": "90bc3f88-7a51-4763-d549-43e170ed6db4"
   },
   "outputs": [
    {
     "data": {
      "application/vnd.google.colaboratory.intrinsic+json": {
       "type": "dataframe"
      },
      "text/html": [
       "\n",
       "  <div id=\"df-623f90aa-3515-48c5-919d-9f65c4bcfadb\" class=\"colab-df-container\">\n",
       "    <div>\n",
       "<style scoped>\n",
       "    .dataframe tbody tr th:only-of-type {\n",
       "        vertical-align: middle;\n",
       "    }\n",
       "\n",
       "    .dataframe tbody tr th {\n",
       "        vertical-align: top;\n",
       "    }\n",
       "\n",
       "    .dataframe thead th {\n",
       "        text-align: right;\n",
       "    }\n",
       "</style>\n",
       "<table border=\"1\" class=\"dataframe\">\n",
       "  <thead>\n",
       "    <tr style=\"text-align: right;\">\n",
       "      <th></th>\n",
       "      <th>time</th>\n",
       "      <th>v1</th>\n",
       "      <th>v2</th>\n",
       "      <th>v3</th>\n",
       "      <th>v4</th>\n",
       "      <th>v5</th>\n",
       "      <th>v6</th>\n",
       "      <th>v7</th>\n",
       "      <th>v8</th>\n",
       "      <th>v9</th>\n",
       "      <th>...</th>\n",
       "      <th>v21</th>\n",
       "      <th>v22</th>\n",
       "      <th>v23</th>\n",
       "      <th>v24</th>\n",
       "      <th>v25</th>\n",
       "      <th>v26</th>\n",
       "      <th>v27</th>\n",
       "      <th>v28</th>\n",
       "      <th>amount</th>\n",
       "      <th>class</th>\n",
       "    </tr>\n",
       "  </thead>\n",
       "  <tbody>\n",
       "    <tr>\n",
       "      <th>0</th>\n",
       "      <td>0.0</td>\n",
       "      <td>-1.359807</td>\n",
       "      <td>-0.072781</td>\n",
       "      <td>2.536347</td>\n",
       "      <td>1.378155</td>\n",
       "      <td>-0.338321</td>\n",
       "      <td>0.462388</td>\n",
       "      <td>0.239599</td>\n",
       "      <td>0.098698</td>\n",
       "      <td>0.363787</td>\n",
       "      <td>...</td>\n",
       "      <td>-0.018307</td>\n",
       "      <td>0.277838</td>\n",
       "      <td>-0.110474</td>\n",
       "      <td>0.066928</td>\n",
       "      <td>0.128539</td>\n",
       "      <td>-0.189115</td>\n",
       "      <td>0.133558</td>\n",
       "      <td>-0.021053</td>\n",
       "      <td>149.62</td>\n",
       "      <td>0</td>\n",
       "    </tr>\n",
       "    <tr>\n",
       "      <th>1</th>\n",
       "      <td>0.0</td>\n",
       "      <td>1.191857</td>\n",
       "      <td>0.266151</td>\n",
       "      <td>0.166480</td>\n",
       "      <td>0.448154</td>\n",
       "      <td>0.060018</td>\n",
       "      <td>-0.082361</td>\n",
       "      <td>-0.078803</td>\n",
       "      <td>0.085102</td>\n",
       "      <td>-0.255425</td>\n",
       "      <td>...</td>\n",
       "      <td>-0.225775</td>\n",
       "      <td>-0.638672</td>\n",
       "      <td>0.101288</td>\n",
       "      <td>-0.339846</td>\n",
       "      <td>0.167170</td>\n",
       "      <td>0.125895</td>\n",
       "      <td>-0.008983</td>\n",
       "      <td>0.014724</td>\n",
       "      <td>2.69</td>\n",
       "      <td>0</td>\n",
       "    </tr>\n",
       "    <tr>\n",
       "      <th>2</th>\n",
       "      <td>1.0</td>\n",
       "      <td>-1.358354</td>\n",
       "      <td>-1.340163</td>\n",
       "      <td>1.773209</td>\n",
       "      <td>0.379780</td>\n",
       "      <td>-0.503198</td>\n",
       "      <td>1.800499</td>\n",
       "      <td>0.791461</td>\n",
       "      <td>0.247676</td>\n",
       "      <td>-1.514654</td>\n",
       "      <td>...</td>\n",
       "      <td>0.247998</td>\n",
       "      <td>0.771679</td>\n",
       "      <td>0.909412</td>\n",
       "      <td>-0.689281</td>\n",
       "      <td>-0.327642</td>\n",
       "      <td>-0.139097</td>\n",
       "      <td>-0.055353</td>\n",
       "      <td>-0.059752</td>\n",
       "      <td>378.66</td>\n",
       "      <td>0</td>\n",
       "    </tr>\n",
       "    <tr>\n",
       "      <th>3</th>\n",
       "      <td>1.0</td>\n",
       "      <td>-0.966272</td>\n",
       "      <td>-0.185226</td>\n",
       "      <td>1.792993</td>\n",
       "      <td>-0.863291</td>\n",
       "      <td>-0.010309</td>\n",
       "      <td>1.247203</td>\n",
       "      <td>0.237609</td>\n",
       "      <td>0.377436</td>\n",
       "      <td>-1.387024</td>\n",
       "      <td>...</td>\n",
       "      <td>-0.108300</td>\n",
       "      <td>0.005274</td>\n",
       "      <td>-0.190321</td>\n",
       "      <td>-1.175575</td>\n",
       "      <td>0.647376</td>\n",
       "      <td>-0.221929</td>\n",
       "      <td>0.062723</td>\n",
       "      <td>0.061458</td>\n",
       "      <td>123.50</td>\n",
       "      <td>0</td>\n",
       "    </tr>\n",
       "    <tr>\n",
       "      <th>4</th>\n",
       "      <td>2.0</td>\n",
       "      <td>-1.158233</td>\n",
       "      <td>0.877737</td>\n",
       "      <td>1.548718</td>\n",
       "      <td>0.403034</td>\n",
       "      <td>-0.407193</td>\n",
       "      <td>0.095921</td>\n",
       "      <td>0.592941</td>\n",
       "      <td>-0.270533</td>\n",
       "      <td>0.817739</td>\n",
       "      <td>...</td>\n",
       "      <td>-0.009431</td>\n",
       "      <td>0.798278</td>\n",
       "      <td>-0.137458</td>\n",
       "      <td>0.141267</td>\n",
       "      <td>-0.206010</td>\n",
       "      <td>0.502292</td>\n",
       "      <td>0.219422</td>\n",
       "      <td>0.215153</td>\n",
       "      <td>69.99</td>\n",
       "      <td>0</td>\n",
       "    </tr>\n",
       "  </tbody>\n",
       "</table>\n",
       "<p>5 rows × 31 columns</p>\n",
       "</div>\n",
       "    <div class=\"colab-df-buttons\">\n",
       "\n",
       "  <div class=\"colab-df-container\">\n",
       "    <button class=\"colab-df-convert\" onclick=\"convertToInteractive('df-623f90aa-3515-48c5-919d-9f65c4bcfadb')\"\n",
       "            title=\"Convert this dataframe to an interactive table.\"\n",
       "            style=\"display:none;\">\n",
       "\n",
       "  <svg xmlns=\"http://www.w3.org/2000/svg\" height=\"24px\" viewBox=\"0 -960 960 960\">\n",
       "    <path d=\"M120-120v-720h720v720H120Zm60-500h600v-160H180v160Zm220 220h160v-160H400v160Zm0 220h160v-160H400v160ZM180-400h160v-160H180v160Zm440 0h160v-160H620v160ZM180-180h160v-160H180v160Zm440 0h160v-160H620v160Z\"/>\n",
       "  </svg>\n",
       "    </button>\n",
       "\n",
       "  <style>\n",
       "    .colab-df-container {\n",
       "      display:flex;\n",
       "      gap: 12px;\n",
       "    }\n",
       "\n",
       "    .colab-df-convert {\n",
       "      background-color: #E8F0FE;\n",
       "      border: none;\n",
       "      border-radius: 50%;\n",
       "      cursor: pointer;\n",
       "      display: none;\n",
       "      fill: #1967D2;\n",
       "      height: 32px;\n",
       "      padding: 0 0 0 0;\n",
       "      width: 32px;\n",
       "    }\n",
       "\n",
       "    .colab-df-convert:hover {\n",
       "      background-color: #E2EBFA;\n",
       "      box-shadow: 0px 1px 2px rgba(60, 64, 67, 0.3), 0px 1px 3px 1px rgba(60, 64, 67, 0.15);\n",
       "      fill: #174EA6;\n",
       "    }\n",
       "\n",
       "    .colab-df-buttons div {\n",
       "      margin-bottom: 4px;\n",
       "    }\n",
       "\n",
       "    [theme=dark] .colab-df-convert {\n",
       "      background-color: #3B4455;\n",
       "      fill: #D2E3FC;\n",
       "    }\n",
       "\n",
       "    [theme=dark] .colab-df-convert:hover {\n",
       "      background-color: #434B5C;\n",
       "      box-shadow: 0px 1px 3px 1px rgba(0, 0, 0, 0.15);\n",
       "      filter: drop-shadow(0px 1px 2px rgba(0, 0, 0, 0.3));\n",
       "      fill: #FFFFFF;\n",
       "    }\n",
       "  </style>\n",
       "\n",
       "    <script>\n",
       "      const buttonEl =\n",
       "        document.querySelector('#df-623f90aa-3515-48c5-919d-9f65c4bcfadb button.colab-df-convert');\n",
       "      buttonEl.style.display =\n",
       "        google.colab.kernel.accessAllowed ? 'block' : 'none';\n",
       "\n",
       "      async function convertToInteractive(key) {\n",
       "        const element = document.querySelector('#df-623f90aa-3515-48c5-919d-9f65c4bcfadb');\n",
       "        const dataTable =\n",
       "          await google.colab.kernel.invokeFunction('convertToInteractive',\n",
       "                                                    [key], {});\n",
       "        if (!dataTable) return;\n",
       "\n",
       "        const docLinkHtml = 'Like what you see? Visit the ' +\n",
       "          '<a target=\"_blank\" href=https://colab.research.google.com/notebooks/data_table.ipynb>data table notebook</a>'\n",
       "          + ' to learn more about interactive tables.';\n",
       "        element.innerHTML = '';\n",
       "        dataTable['output_type'] = 'display_data';\n",
       "        await google.colab.output.renderOutput(dataTable, element);\n",
       "        const docLink = document.createElement('div');\n",
       "        docLink.innerHTML = docLinkHtml;\n",
       "        element.appendChild(docLink);\n",
       "      }\n",
       "    </script>\n",
       "  </div>\n",
       "\n",
       "\n",
       "<div id=\"df-a344864b-6e5c-4b43-b251-b9943bef61a9\">\n",
       "  <button class=\"colab-df-quickchart\" onclick=\"quickchart('df-a344864b-6e5c-4b43-b251-b9943bef61a9')\"\n",
       "            title=\"Suggest charts\"\n",
       "            style=\"display:none;\">\n",
       "\n",
       "<svg xmlns=\"http://www.w3.org/2000/svg\" height=\"24px\"viewBox=\"0 0 24 24\"\n",
       "     width=\"24px\">\n",
       "    <g>\n",
       "        <path d=\"M19 3H5c-1.1 0-2 .9-2 2v14c0 1.1.9 2 2 2h14c1.1 0 2-.9 2-2V5c0-1.1-.9-2-2-2zM9 17H7v-7h2v7zm4 0h-2V7h2v10zm4 0h-2v-4h2v4z\"/>\n",
       "    </g>\n",
       "</svg>\n",
       "  </button>\n",
       "\n",
       "<style>\n",
       "  .colab-df-quickchart {\n",
       "      --bg-color: #E8F0FE;\n",
       "      --fill-color: #1967D2;\n",
       "      --hover-bg-color: #E2EBFA;\n",
       "      --hover-fill-color: #174EA6;\n",
       "      --disabled-fill-color: #AAA;\n",
       "      --disabled-bg-color: #DDD;\n",
       "  }\n",
       "\n",
       "  [theme=dark] .colab-df-quickchart {\n",
       "      --bg-color: #3B4455;\n",
       "      --fill-color: #D2E3FC;\n",
       "      --hover-bg-color: #434B5C;\n",
       "      --hover-fill-color: #FFFFFF;\n",
       "      --disabled-bg-color: #3B4455;\n",
       "      --disabled-fill-color: #666;\n",
       "  }\n",
       "\n",
       "  .colab-df-quickchart {\n",
       "    background-color: var(--bg-color);\n",
       "    border: none;\n",
       "    border-radius: 50%;\n",
       "    cursor: pointer;\n",
       "    display: none;\n",
       "    fill: var(--fill-color);\n",
       "    height: 32px;\n",
       "    padding: 0;\n",
       "    width: 32px;\n",
       "  }\n",
       "\n",
       "  .colab-df-quickchart:hover {\n",
       "    background-color: var(--hover-bg-color);\n",
       "    box-shadow: 0 1px 2px rgba(60, 64, 67, 0.3), 0 1px 3px 1px rgba(60, 64, 67, 0.15);\n",
       "    fill: var(--button-hover-fill-color);\n",
       "  }\n",
       "\n",
       "  .colab-df-quickchart-complete:disabled,\n",
       "  .colab-df-quickchart-complete:disabled:hover {\n",
       "    background-color: var(--disabled-bg-color);\n",
       "    fill: var(--disabled-fill-color);\n",
       "    box-shadow: none;\n",
       "  }\n",
       "\n",
       "  .colab-df-spinner {\n",
       "    border: 2px solid var(--fill-color);\n",
       "    border-color: transparent;\n",
       "    border-bottom-color: var(--fill-color);\n",
       "    animation:\n",
       "      spin 1s steps(1) infinite;\n",
       "  }\n",
       "\n",
       "  @keyframes spin {\n",
       "    0% {\n",
       "      border-color: transparent;\n",
       "      border-bottom-color: var(--fill-color);\n",
       "      border-left-color: var(--fill-color);\n",
       "    }\n",
       "    20% {\n",
       "      border-color: transparent;\n",
       "      border-left-color: var(--fill-color);\n",
       "      border-top-color: var(--fill-color);\n",
       "    }\n",
       "    30% {\n",
       "      border-color: transparent;\n",
       "      border-left-color: var(--fill-color);\n",
       "      border-top-color: var(--fill-color);\n",
       "      border-right-color: var(--fill-color);\n",
       "    }\n",
       "    40% {\n",
       "      border-color: transparent;\n",
       "      border-right-color: var(--fill-color);\n",
       "      border-top-color: var(--fill-color);\n",
       "    }\n",
       "    60% {\n",
       "      border-color: transparent;\n",
       "      border-right-color: var(--fill-color);\n",
       "    }\n",
       "    80% {\n",
       "      border-color: transparent;\n",
       "      border-right-color: var(--fill-color);\n",
       "      border-bottom-color: var(--fill-color);\n",
       "    }\n",
       "    90% {\n",
       "      border-color: transparent;\n",
       "      border-bottom-color: var(--fill-color);\n",
       "    }\n",
       "  }\n",
       "</style>\n",
       "\n",
       "  <script>\n",
       "    async function quickchart(key) {\n",
       "      const quickchartButtonEl =\n",
       "        document.querySelector('#' + key + ' button');\n",
       "      quickchartButtonEl.disabled = true;  // To prevent multiple clicks.\n",
       "      quickchartButtonEl.classList.add('colab-df-spinner');\n",
       "      try {\n",
       "        const charts = await google.colab.kernel.invokeFunction(\n",
       "            'suggestCharts', [key], {});\n",
       "      } catch (error) {\n",
       "        console.error('Error during call to suggestCharts:', error);\n",
       "      }\n",
       "      quickchartButtonEl.classList.remove('colab-df-spinner');\n",
       "      quickchartButtonEl.classList.add('colab-df-quickchart-complete');\n",
       "    }\n",
       "    (() => {\n",
       "      let quickchartButtonEl =\n",
       "        document.querySelector('#df-a344864b-6e5c-4b43-b251-b9943bef61a9 button');\n",
       "      quickchartButtonEl.style.display =\n",
       "        google.colab.kernel.accessAllowed ? 'block' : 'none';\n",
       "    })();\n",
       "  </script>\n",
       "</div>\n",
       "\n",
       "    </div>\n",
       "  </div>\n"
      ],
      "text/plain": [
       "   time        v1        v2        v3        v4        v5        v6        v7  \\\n",
       "0   0.0 -1.359807 -0.072781  2.536347  1.378155 -0.338321  0.462388  0.239599   \n",
       "1   0.0  1.191857  0.266151  0.166480  0.448154  0.060018 -0.082361 -0.078803   \n",
       "2   1.0 -1.358354 -1.340163  1.773209  0.379780 -0.503198  1.800499  0.791461   \n",
       "3   1.0 -0.966272 -0.185226  1.792993 -0.863291 -0.010309  1.247203  0.237609   \n",
       "4   2.0 -1.158233  0.877737  1.548718  0.403034 -0.407193  0.095921  0.592941   \n",
       "\n",
       "         v8        v9  ...       v21       v22       v23       v24       v25  \\\n",
       "0  0.098698  0.363787  ... -0.018307  0.277838 -0.110474  0.066928  0.128539   \n",
       "1  0.085102 -0.255425  ... -0.225775 -0.638672  0.101288 -0.339846  0.167170   \n",
       "2  0.247676 -1.514654  ...  0.247998  0.771679  0.909412 -0.689281 -0.327642   \n",
       "3  0.377436 -1.387024  ... -0.108300  0.005274 -0.190321 -1.175575  0.647376   \n",
       "4 -0.270533  0.817739  ... -0.009431  0.798278 -0.137458  0.141267 -0.206010   \n",
       "\n",
       "        v26       v27       v28  amount  class  \n",
       "0 -0.189115  0.133558 -0.021053  149.62      0  \n",
       "1  0.125895 -0.008983  0.014724    2.69      0  \n",
       "2 -0.139097 -0.055353 -0.059752  378.66      0  \n",
       "3 -0.221929  0.062723  0.061458  123.50      0  \n",
       "4  0.502292  0.219422  0.215153   69.99      0  \n",
       "\n",
       "[5 rows x 31 columns]"
      ]
     },
     "metadata": {},
     "output_type": "display_data"
    }
   ],
   "source": [
    "# Loading the dataset\n",
    "dataset = pd.read_csv('creditcard.csv')\n",
    "dataset.columns = [col.lower() for col in dataset.columns]\n",
    "display(dataset.head())"
   ]
  },
  {
   "cell_type": "code",
   "execution_count": null,
   "metadata": {
    "colab": {
     "base_uri": "https://localhost:8080/",
     "height": 54
    },
    "id": "IVSlvwulbPSn",
    "outputId": "c609d5c4-c803-4de4-e8c2-39c17c1ae5c4"
   },
   "outputs": [
    {
     "data": {
      "text/plain": [
       "(284807, 31)"
      ]
     },
     "metadata": {},
     "output_type": "display_data"
    },
    {
     "data": {
      "text/plain": [
       "0"
      ]
     },
     "metadata": {},
     "output_type": "display_data"
    }
   ],
   "source": [
    "display(dataset.shape)\n",
    "# the data has 284807 rows and 31 columns\n",
    "display(dataset.isna().sum().sum())\n",
    "# no missing values"
   ]
  },
  {
   "cell_type": "code",
   "execution_count": null,
   "metadata": {
    "id": "FZTEJ9YnZBub"
   },
   "outputs": [],
   "source": [
    "# Since we are not going to use 'time' column, we are going to drop it\n",
    "dataset.drop(columns=[\"time\"], inplace=True)"
   ]
  },
  {
   "cell_type": "code",
   "execution_count": null,
   "metadata": {
    "id": "d4q8nAkI-QzG"
   },
   "outputs": [],
   "source": [
    "# Let's Scale the Amount Column\n",
    "sc = StandardScaler()\n",
    "dataset.amount = sc.fit_transform(np.array(dataset.amount).reshape(-1,1))"
   ]
  },
  {
   "cell_type": "markdown",
   "metadata": {
    "id": "WV1P8qJ1WycH"
   },
   "source": [
    "PCA involves finding components along which the variance of the dataset can be explained the most. The aim for PCA is to reduce the dimensions to a certain degree by applying a threshold on the % variance you wish to forego as means to make the model more robust, quicker to converge, and not overfit.\n",
    "\n",
    "In our situation, since the PCA was already applied onto the dataset transforming the original 28 features to 28 Principal componenets, we use the PCA transformer to understand the % variance explained by each prinicpal component. We have set a threshold for the explained variance to be at least 80%. The first n dimensions that can explain 80%+ of the information within the dataset is what we would be using as features."
   ]
  },
  {
   "cell_type": "code",
   "execution_count": null,
   "metadata": {
    "colab": {
     "base_uri": "https://localhost:8080/",
     "height": 225
    },
    "id": "bXDAKeNA-QzG",
    "outputId": "f46b9ae1-0581-4099-91e2-d4afd82121a5"
   },
   "outputs": [
    {
     "name": "stdout",
     "output_type": "stream",
     "text": [
      "Out of the PCA componenets, we can keep the first 14 as they explain 80.0% of the variance in the dataset\n"
     ]
    },
    {
     "data": {
      "application/vnd.google.colaboratory.intrinsic+json": {
       "summary": "{\n  \"name\": \"display(dataset\",\n  \"rows\": 5,\n  \"fields\": [\n    {\n      \"column\": \"v1\",\n      \"properties\": {\n        \"dtype\": \"number\",\n        \"std\": 1.0867645077639418,\n        \"min\": -1.359807134,\n        \"max\": 1.191857111,\n        \"num_unique_values\": 5,\n        \"samples\": [\n          1.191857111,\n          -1.158233093,\n          -1.358354062\n        ],\n        \"semantic_type\": \"\",\n        \"description\": \"\"\n      }\n    },\n    {\n      \"column\": \"v2\",\n      \"properties\": {\n        \"dtype\": \"number\",\n        \"std\": 0.8117306023053524,\n        \"min\": -1.340163075,\n        \"max\": 0.877736755,\n        \"num_unique_values\": 5,\n        \"samples\": [\n          0.266150712,\n          0.877736755,\n          -1.340163075\n        ],\n        \"semantic_type\": \"\",\n        \"description\": \"\"\n      }\n    },\n    {\n      \"column\": \"v3\",\n      \"properties\": {\n        \"dtype\": \"number\",\n        \"std\": 0.8652974982288497,\n        \"min\": 0.166480113,\n        \"max\": 2.536346738,\n        \"num_unique_values\": 5,\n        \"samples\": [\n          0.166480113,\n          1.548717847,\n          1.773209343\n        ],\n        \"semantic_type\": \"\",\n        \"description\": \"\"\n      }\n    },\n    {\n      \"column\": \"v4\",\n      \"properties\": {\n        \"dtype\": \"number\",\n        \"std\": 0.7972623553109724,\n        \"min\": -0.863291275,\n        \"max\": 1.378155224,\n        \"num_unique_values\": 5,\n        \"samples\": [\n          0.448154078,\n          0.403033934,\n          0.379779593\n        ],\n        \"semantic_type\": \"\",\n        \"description\": \"\"\n      }\n    },\n    {\n      \"column\": \"v5\",\n      \"properties\": {\n        \"dtype\": \"number\",\n        \"std\": 0.24983107195714216,\n        \"min\": -0.503198133,\n        \"max\": 0.060017649,\n        \"num_unique_values\": 5,\n        \"samples\": [\n          0.060017649,\n          -0.407193377,\n          -0.503198133\n        ],\n        \"semantic_type\": \"\",\n        \"description\": \"\"\n      }\n    },\n    {\n      \"column\": \"v6\",\n      \"properties\": {\n        \"dtype\": \"number\",\n        \"std\": 0.7974768342175773,\n        \"min\": -0.082360809,\n        \"max\": 1.800499381,\n        \"num_unique_values\": 5,\n        \"samples\": [\n          -0.082360809,\n          0.095921462,\n          1.800499381\n        ],\n        \"semantic_type\": \"\",\n        \"description\": \"\"\n      }\n    },\n    {\n      \"column\": \"v7\",\n      \"properties\": {\n        \"dtype\": \"number\",\n        \"std\": 0.3399944704039111,\n        \"min\": -0.078802983,\n        \"max\": 0.791460956,\n        \"num_unique_values\": 5,\n        \"samples\": [\n          -0.078802983,\n          0.592940745,\n          0.791460956\n        ],\n        \"semantic_type\": \"\",\n        \"description\": \"\"\n      }\n    },\n    {\n      \"column\": \"v8\",\n      \"properties\": {\n        \"dtype\": \"number\",\n        \"std\": 0.24290036084347344,\n        \"min\": -0.270532677,\n        \"max\": 0.377435875,\n        \"num_unique_values\": 5,\n        \"samples\": [\n          0.085101655,\n          -0.270532677,\n          0.247675787\n        ],\n        \"semantic_type\": \"\",\n        \"description\": \"\"\n      }\n    },\n    {\n      \"column\": \"v9\",\n      \"properties\": {\n        \"dtype\": \"number\",\n        \"std\": 1.0372696030742503,\n        \"min\": -1.514654323,\n        \"max\": 0.817739308,\n        \"num_unique_values\": 5,\n        \"samples\": [\n          -0.255425128,\n          0.817739308,\n          -1.514654323\n        ],\n        \"semantic_type\": \"\",\n        \"description\": \"\"\n      }\n    },\n    {\n      \"column\": \"v10\",\n      \"properties\": {\n        \"dtype\": \"number\",\n        \"std\": 0.35767936453963495,\n        \"min\": -0.166974414,\n        \"max\": 0.753074432,\n        \"num_unique_values\": 5,\n        \"samples\": [\n          -0.166974414,\n          0.753074432,\n          0.207642865\n        ],\n        \"semantic_type\": \"\",\n        \"description\": \"\"\n      }\n    },\n    {\n      \"column\": \"v11\",\n      \"properties\": {\n        \"dtype\": \"number\",\n        \"std\": 0.9927919143263104,\n        \"min\": -0.822842878,\n        \"max\": 1.612726661,\n        \"num_unique_values\": 5,\n        \"samples\": [\n          1.612726661,\n          -0.822842878,\n          0.624501459\n        ],\n        \"semantic_type\": \"\",\n        \"description\": \"\"\n      }\n    },\n    {\n      \"column\": \"v12\",\n      \"properties\": {\n        \"dtype\": \"number\",\n        \"std\": 0.6204110625494474,\n        \"min\": -0.617800856,\n        \"max\": 1.065235311,\n        \"num_unique_values\": 5,\n        \"samples\": [\n          1.065235311,\n          0.53819555,\n          0.066083685\n        ],\n        \"semantic_type\": \"\",\n        \"description\": \"\"\n      }\n    },\n    {\n      \"column\": \"v13\",\n      \"properties\": {\n        \"dtype\": \"number\",\n        \"std\": 0.858761276164712,\n        \"min\": -0.991389847,\n        \"max\": 1.345851593,\n        \"num_unique_values\": 5,\n        \"samples\": [\n          0.489095016,\n          1.345851593,\n          0.717292731\n        ],\n        \"semantic_type\": \"\",\n        \"description\": \"\"\n      }\n    },\n    {\n      \"column\": \"v14\",\n      \"properties\": {\n        \"dtype\": \"number\",\n        \"std\": 0.4057857667706943,\n        \"min\": -1.119669835,\n        \"max\": -0.143772296,\n        \"num_unique_values\": 5,\n        \"samples\": [\n          -0.143772296,\n          -1.119669835,\n          -0.165945923\n        ],\n        \"semantic_type\": \"\",\n        \"description\": \"\"\n      }\n    },\n    {\n      \"column\": \"amount\",\n      \"properties\": {\n        \"dtype\": \"number\",\n        \"std\": 0.568794220574378,\n        \"min\": -0.3424745411051305,\n        \"max\": 1.1606859252297228,\n        \"num_unique_values\": 5,\n        \"samples\": [\n          -0.3424745411051305,\n          -0.07340334025310606,\n          1.1606859252297228\n        ],\n        \"semantic_type\": \"\",\n        \"description\": \"\"\n      }\n    },\n    {\n      \"column\": \"class\",\n      \"properties\": {\n        \"dtype\": \"number\",\n        \"std\": 0,\n        \"min\": 0,\n        \"max\": 0,\n        \"num_unique_values\": 1,\n        \"samples\": [\n          0\n        ],\n        \"semantic_type\": \"\",\n        \"description\": \"\"\n      }\n    }\n  ]\n}",
       "type": "dataframe"
      },
      "text/html": [
       "\n",
       "  <div id=\"df-eddc4fe5-6a02-4b3f-9b4c-6b4d9a1e67bd\" class=\"colab-df-container\">\n",
       "    <div>\n",
       "<style scoped>\n",
       "    .dataframe tbody tr th:only-of-type {\n",
       "        vertical-align: middle;\n",
       "    }\n",
       "\n",
       "    .dataframe tbody tr th {\n",
       "        vertical-align: top;\n",
       "    }\n",
       "\n",
       "    .dataframe thead th {\n",
       "        text-align: right;\n",
       "    }\n",
       "</style>\n",
       "<table border=\"1\" class=\"dataframe\">\n",
       "  <thead>\n",
       "    <tr style=\"text-align: right;\">\n",
       "      <th></th>\n",
       "      <th>v1</th>\n",
       "      <th>v2</th>\n",
       "      <th>v3</th>\n",
       "      <th>v4</th>\n",
       "      <th>v5</th>\n",
       "      <th>v6</th>\n",
       "      <th>v7</th>\n",
       "      <th>v8</th>\n",
       "      <th>v9</th>\n",
       "      <th>v10</th>\n",
       "      <th>v11</th>\n",
       "      <th>v12</th>\n",
       "      <th>v13</th>\n",
       "      <th>v14</th>\n",
       "      <th>amount</th>\n",
       "      <th>class</th>\n",
       "    </tr>\n",
       "  </thead>\n",
       "  <tbody>\n",
       "    <tr>\n",
       "      <th>0</th>\n",
       "      <td>-1.359807</td>\n",
       "      <td>-0.072781</td>\n",
       "      <td>2.536347</td>\n",
       "      <td>1.378155</td>\n",
       "      <td>-0.338321</td>\n",
       "      <td>0.462388</td>\n",
       "      <td>0.239599</td>\n",
       "      <td>0.098698</td>\n",
       "      <td>0.363787</td>\n",
       "      <td>0.090794</td>\n",
       "      <td>-0.551600</td>\n",
       "      <td>-0.617801</td>\n",
       "      <td>-0.991390</td>\n",
       "      <td>-0.311169</td>\n",
       "      <td>0.244964</td>\n",
       "      <td>0</td>\n",
       "    </tr>\n",
       "    <tr>\n",
       "      <th>1</th>\n",
       "      <td>1.191857</td>\n",
       "      <td>0.266151</td>\n",
       "      <td>0.166480</td>\n",
       "      <td>0.448154</td>\n",
       "      <td>0.060018</td>\n",
       "      <td>-0.082361</td>\n",
       "      <td>-0.078803</td>\n",
       "      <td>0.085102</td>\n",
       "      <td>-0.255425</td>\n",
       "      <td>-0.166974</td>\n",
       "      <td>1.612727</td>\n",
       "      <td>1.065235</td>\n",
       "      <td>0.489095</td>\n",
       "      <td>-0.143772</td>\n",
       "      <td>-0.342475</td>\n",
       "      <td>0</td>\n",
       "    </tr>\n",
       "    <tr>\n",
       "      <th>2</th>\n",
       "      <td>-1.358354</td>\n",
       "      <td>-1.340163</td>\n",
       "      <td>1.773209</td>\n",
       "      <td>0.379780</td>\n",
       "      <td>-0.503198</td>\n",
       "      <td>1.800499</td>\n",
       "      <td>0.791461</td>\n",
       "      <td>0.247676</td>\n",
       "      <td>-1.514654</td>\n",
       "      <td>0.207643</td>\n",
       "      <td>0.624501</td>\n",
       "      <td>0.066084</td>\n",
       "      <td>0.717293</td>\n",
       "      <td>-0.165946</td>\n",
       "      <td>1.160686</td>\n",
       "      <td>0</td>\n",
       "    </tr>\n",
       "    <tr>\n",
       "      <th>3</th>\n",
       "      <td>-0.966272</td>\n",
       "      <td>-0.185226</td>\n",
       "      <td>1.792993</td>\n",
       "      <td>-0.863291</td>\n",
       "      <td>-0.010309</td>\n",
       "      <td>1.247203</td>\n",
       "      <td>0.237609</td>\n",
       "      <td>0.377436</td>\n",
       "      <td>-1.387024</td>\n",
       "      <td>-0.054952</td>\n",
       "      <td>-0.226487</td>\n",
       "      <td>0.178228</td>\n",
       "      <td>0.507757</td>\n",
       "      <td>-0.287924</td>\n",
       "      <td>0.140534</td>\n",
       "      <td>0</td>\n",
       "    </tr>\n",
       "    <tr>\n",
       "      <th>4</th>\n",
       "      <td>-1.158233</td>\n",
       "      <td>0.877737</td>\n",
       "      <td>1.548718</td>\n",
       "      <td>0.403034</td>\n",
       "      <td>-0.407193</td>\n",
       "      <td>0.095921</td>\n",
       "      <td>0.592941</td>\n",
       "      <td>-0.270533</td>\n",
       "      <td>0.817739</td>\n",
       "      <td>0.753074</td>\n",
       "      <td>-0.822843</td>\n",
       "      <td>0.538196</td>\n",
       "      <td>1.345852</td>\n",
       "      <td>-1.119670</td>\n",
       "      <td>-0.073403</td>\n",
       "      <td>0</td>\n",
       "    </tr>\n",
       "  </tbody>\n",
       "</table>\n",
       "</div>\n",
       "    <div class=\"colab-df-buttons\">\n",
       "\n",
       "  <div class=\"colab-df-container\">\n",
       "    <button class=\"colab-df-convert\" onclick=\"convertToInteractive('df-eddc4fe5-6a02-4b3f-9b4c-6b4d9a1e67bd')\"\n",
       "            title=\"Convert this dataframe to an interactive table.\"\n",
       "            style=\"display:none;\">\n",
       "\n",
       "  <svg xmlns=\"http://www.w3.org/2000/svg\" height=\"24px\" viewBox=\"0 -960 960 960\">\n",
       "    <path d=\"M120-120v-720h720v720H120Zm60-500h600v-160H180v160Zm220 220h160v-160H400v160Zm0 220h160v-160H400v160ZM180-400h160v-160H180v160Zm440 0h160v-160H620v160ZM180-180h160v-160H180v160Zm440 0h160v-160H620v160Z\"/>\n",
       "  </svg>\n",
       "    </button>\n",
       "\n",
       "  <style>\n",
       "    .colab-df-container {\n",
       "      display:flex;\n",
       "      gap: 12px;\n",
       "    }\n",
       "\n",
       "    .colab-df-convert {\n",
       "      background-color: #E8F0FE;\n",
       "      border: none;\n",
       "      border-radius: 50%;\n",
       "      cursor: pointer;\n",
       "      display: none;\n",
       "      fill: #1967D2;\n",
       "      height: 32px;\n",
       "      padding: 0 0 0 0;\n",
       "      width: 32px;\n",
       "    }\n",
       "\n",
       "    .colab-df-convert:hover {\n",
       "      background-color: #E2EBFA;\n",
       "      box-shadow: 0px 1px 2px rgba(60, 64, 67, 0.3), 0px 1px 3px 1px rgba(60, 64, 67, 0.15);\n",
       "      fill: #174EA6;\n",
       "    }\n",
       "\n",
       "    .colab-df-buttons div {\n",
       "      margin-bottom: 4px;\n",
       "    }\n",
       "\n",
       "    [theme=dark] .colab-df-convert {\n",
       "      background-color: #3B4455;\n",
       "      fill: #D2E3FC;\n",
       "    }\n",
       "\n",
       "    [theme=dark] .colab-df-convert:hover {\n",
       "      background-color: #434B5C;\n",
       "      box-shadow: 0px 1px 3px 1px rgba(0, 0, 0, 0.15);\n",
       "      filter: drop-shadow(0px 1px 2px rgba(0, 0, 0, 0.3));\n",
       "      fill: #FFFFFF;\n",
       "    }\n",
       "  </style>\n",
       "\n",
       "    <script>\n",
       "      const buttonEl =\n",
       "        document.querySelector('#df-eddc4fe5-6a02-4b3f-9b4c-6b4d9a1e67bd button.colab-df-convert');\n",
       "      buttonEl.style.display =\n",
       "        google.colab.kernel.accessAllowed ? 'block' : 'none';\n",
       "\n",
       "      async function convertToInteractive(key) {\n",
       "        const element = document.querySelector('#df-eddc4fe5-6a02-4b3f-9b4c-6b4d9a1e67bd');\n",
       "        const dataTable =\n",
       "          await google.colab.kernel.invokeFunction('convertToInteractive',\n",
       "                                                    [key], {});\n",
       "        if (!dataTable) return;\n",
       "\n",
       "        const docLinkHtml = 'Like what you see? Visit the ' +\n",
       "          '<a target=\"_blank\" href=https://colab.research.google.com/notebooks/data_table.ipynb>data table notebook</a>'\n",
       "          + ' to learn more about interactive tables.';\n",
       "        element.innerHTML = '';\n",
       "        dataTable['output_type'] = 'display_data';\n",
       "        await google.colab.output.renderOutput(dataTable, element);\n",
       "        const docLink = document.createElement('div');\n",
       "        docLink.innerHTML = docLinkHtml;\n",
       "        element.appendChild(docLink);\n",
       "      }\n",
       "    </script>\n",
       "  </div>\n",
       "\n",
       "\n",
       "<div id=\"df-b0c6a925-e81e-4c27-886e-6c75a13c26e3\">\n",
       "  <button class=\"colab-df-quickchart\" onclick=\"quickchart('df-b0c6a925-e81e-4c27-886e-6c75a13c26e3')\"\n",
       "            title=\"Suggest charts\"\n",
       "            style=\"display:none;\">\n",
       "\n",
       "<svg xmlns=\"http://www.w3.org/2000/svg\" height=\"24px\"viewBox=\"0 0 24 24\"\n",
       "     width=\"24px\">\n",
       "    <g>\n",
       "        <path d=\"M19 3H5c-1.1 0-2 .9-2 2v14c0 1.1.9 2 2 2h14c1.1 0 2-.9 2-2V5c0-1.1-.9-2-2-2zM9 17H7v-7h2v7zm4 0h-2V7h2v10zm4 0h-2v-4h2v4z\"/>\n",
       "    </g>\n",
       "</svg>\n",
       "  </button>\n",
       "\n",
       "<style>\n",
       "  .colab-df-quickchart {\n",
       "      --bg-color: #E8F0FE;\n",
       "      --fill-color: #1967D2;\n",
       "      --hover-bg-color: #E2EBFA;\n",
       "      --hover-fill-color: #174EA6;\n",
       "      --disabled-fill-color: #AAA;\n",
       "      --disabled-bg-color: #DDD;\n",
       "  }\n",
       "\n",
       "  [theme=dark] .colab-df-quickchart {\n",
       "      --bg-color: #3B4455;\n",
       "      --fill-color: #D2E3FC;\n",
       "      --hover-bg-color: #434B5C;\n",
       "      --hover-fill-color: #FFFFFF;\n",
       "      --disabled-bg-color: #3B4455;\n",
       "      --disabled-fill-color: #666;\n",
       "  }\n",
       "\n",
       "  .colab-df-quickchart {\n",
       "    background-color: var(--bg-color);\n",
       "    border: none;\n",
       "    border-radius: 50%;\n",
       "    cursor: pointer;\n",
       "    display: none;\n",
       "    fill: var(--fill-color);\n",
       "    height: 32px;\n",
       "    padding: 0;\n",
       "    width: 32px;\n",
       "  }\n",
       "\n",
       "  .colab-df-quickchart:hover {\n",
       "    background-color: var(--hover-bg-color);\n",
       "    box-shadow: 0 1px 2px rgba(60, 64, 67, 0.3), 0 1px 3px 1px rgba(60, 64, 67, 0.15);\n",
       "    fill: var(--button-hover-fill-color);\n",
       "  }\n",
       "\n",
       "  .colab-df-quickchart-complete:disabled,\n",
       "  .colab-df-quickchart-complete:disabled:hover {\n",
       "    background-color: var(--disabled-bg-color);\n",
       "    fill: var(--disabled-fill-color);\n",
       "    box-shadow: none;\n",
       "  }\n",
       "\n",
       "  .colab-df-spinner {\n",
       "    border: 2px solid var(--fill-color);\n",
       "    border-color: transparent;\n",
       "    border-bottom-color: var(--fill-color);\n",
       "    animation:\n",
       "      spin 1s steps(1) infinite;\n",
       "  }\n",
       "\n",
       "  @keyframes spin {\n",
       "    0% {\n",
       "      border-color: transparent;\n",
       "      border-bottom-color: var(--fill-color);\n",
       "      border-left-color: var(--fill-color);\n",
       "    }\n",
       "    20% {\n",
       "      border-color: transparent;\n",
       "      border-left-color: var(--fill-color);\n",
       "      border-top-color: var(--fill-color);\n",
       "    }\n",
       "    30% {\n",
       "      border-color: transparent;\n",
       "      border-left-color: var(--fill-color);\n",
       "      border-top-color: var(--fill-color);\n",
       "      border-right-color: var(--fill-color);\n",
       "    }\n",
       "    40% {\n",
       "      border-color: transparent;\n",
       "      border-right-color: var(--fill-color);\n",
       "      border-top-color: var(--fill-color);\n",
       "    }\n",
       "    60% {\n",
       "      border-color: transparent;\n",
       "      border-right-color: var(--fill-color);\n",
       "    }\n",
       "    80% {\n",
       "      border-color: transparent;\n",
       "      border-right-color: var(--fill-color);\n",
       "      border-bottom-color: var(--fill-color);\n",
       "    }\n",
       "    90% {\n",
       "      border-color: transparent;\n",
       "      border-bottom-color: var(--fill-color);\n",
       "    }\n",
       "  }\n",
       "</style>\n",
       "\n",
       "  <script>\n",
       "    async function quickchart(key) {\n",
       "      const quickchartButtonEl =\n",
       "        document.querySelector('#' + key + ' button');\n",
       "      quickchartButtonEl.disabled = true;  // To prevent multiple clicks.\n",
       "      quickchartButtonEl.classList.add('colab-df-spinner');\n",
       "      try {\n",
       "        const charts = await google.colab.kernel.invokeFunction(\n",
       "            'suggestCharts', [key], {});\n",
       "      } catch (error) {\n",
       "        console.error('Error during call to suggestCharts:', error);\n",
       "      }\n",
       "      quickchartButtonEl.classList.remove('colab-df-spinner');\n",
       "      quickchartButtonEl.classList.add('colab-df-quickchart-complete');\n",
       "    }\n",
       "    (() => {\n",
       "      let quickchartButtonEl =\n",
       "        document.querySelector('#df-b0c6a925-e81e-4c27-886e-6c75a13c26e3 button');\n",
       "      quickchartButtonEl.style.display =\n",
       "        google.colab.kernel.accessAllowed ? 'block' : 'none';\n",
       "    })();\n",
       "  </script>\n",
       "</div>\n",
       "\n",
       "    </div>\n",
       "  </div>\n"
      ],
      "text/plain": [
       "         v1        v2        v3        v4        v5        v6        v7  \\\n",
       "0 -1.359807 -0.072781  2.536347  1.378155 -0.338321  0.462388  0.239599   \n",
       "1  1.191857  0.266151  0.166480  0.448154  0.060018 -0.082361 -0.078803   \n",
       "2 -1.358354 -1.340163  1.773209  0.379780 -0.503198  1.800499  0.791461   \n",
       "3 -0.966272 -0.185226  1.792993 -0.863291 -0.010309  1.247203  0.237609   \n",
       "4 -1.158233  0.877737  1.548718  0.403034 -0.407193  0.095921  0.592941   \n",
       "\n",
       "         v8        v9       v10       v11       v12       v13       v14  \\\n",
       "0  0.098698  0.363787  0.090794 -0.551600 -0.617801 -0.991390 -0.311169   \n",
       "1  0.085102 -0.255425 -0.166974  1.612727  1.065235  0.489095 -0.143772   \n",
       "2  0.247676 -1.514654  0.207643  0.624501  0.066084  0.717293 -0.165946   \n",
       "3  0.377436 -1.387024 -0.054952 -0.226487  0.178228  0.507757 -0.287924   \n",
       "4 -0.270533  0.817739  0.753074 -0.822843  0.538196  1.345852 -1.119670   \n",
       "\n",
       "     amount  class  \n",
       "0  0.244964      0  \n",
       "1 -0.342475      0  \n",
       "2  1.160686      0  \n",
       "3  0.140534      0  \n",
       "4 -0.073403      0  "
      ]
     },
     "metadata": {},
     "output_type": "display_data"
    }
   ],
   "source": [
    "# Applying PCA on features V1 to V28\n",
    "# While the components will remain exactly the same, it will provide us with the metric: explained_variance_ratio_\n",
    "# This will provide us with the % variance of the dataset that is explained by the nth principal component.\n",
    "pca_transform = PCA(n_components=len(dataset.columns) - 2)\n",
    "pca_transform.fit(dataset.iloc[:,:-2])\n",
    "\n",
    "# Setting the threshold & selecting the first n components that are able to explain atleast this threshold amount of variance\n",
    "explained_variance_threshold = 0.8\n",
    "columns_to_keep = sum(pca_transform.explained_variance_ratio_.cumsum() <= explained_variance_threshold)\n",
    "print(f\"Out of the PCA componenets, we can keep the first {columns_to_keep} as they explain {explained_variance_threshold * 100}% of the variance in the dataset\")\n",
    "\n",
    "# Dropping the remaining columns\n",
    "dataset.drop(columns=[col for col in dataset.columns if col[0] == \"v\" and int(col[1:]) > columns_to_keep], inplace=True)\n",
    "display(dataset.head())"
   ]
  },
  {
   "cell_type": "code",
   "execution_count": null,
   "metadata": {
    "colab": {
     "base_uri": "https://localhost:8080/"
    },
    "id": "zNgxMTRJXI3q",
    "outputId": "45fb1dca-0ac6-4692-acb9-e02862325b14"
   },
   "outputs": [
    {
     "data": {
      "text/plain": [
       "Counter({dtype('float64'): 15, dtype('int64'): 1})"
      ]
     },
     "execution_count": 8,
     "metadata": {},
     "output_type": "execute_result"
    }
   ],
   "source": [
    "# Checking the distribution of the datatypes for any data issues\n",
    "Counter(dataset.dtypes)"
   ]
  },
  {
   "cell_type": "code",
   "execution_count": null,
   "metadata": {
    "colab": {
     "base_uri": "https://localhost:8080/"
    },
    "id": "5Ex3bsTt-QzH",
    "outputId": "cf7bed52-64fc-4fa9-f016-4f08dc42e81b"
   },
   "outputs": [
    {
     "data": {
      "text/plain": [
       "class\n",
       "0    284315\n",
       "1       492\n",
       "Name: count, dtype: int64"
      ]
     },
     "execution_count": 9,
     "metadata": {},
     "output_type": "execute_result"
    }
   ],
   "source": [
    "# Checking for the distribution of class labels\n",
    "dataset[\"class\"].value_counts()"
   ]
  },
  {
   "cell_type": "markdown",
   "metadata": {
    "id": "RjF5E2bZXToc"
   },
   "source": [
    "From the above we cells, we realize that the data is numerical across the board, so not further need for preprocessing is required. Having applied scaling and feature reduction, we can proceed with our training.\n",
    "\n",
    "However, we observe that our dataset is highly skewed, therefore to reduce this to some extent to create a more balanced version of the data ('df') from the original dataset ('dataset'), we aimed at dropping some of the normal transaction from training and testing.\n",
    "\n",
    "For this, we have defined a ratio, the number of normal transactions for each fraudulent one. We sampled the normal transactions at random, keeping all the fraudulent ones, mainitaining this ratio in order to improve the execution time for training the models."
   ]
  },
  {
   "cell_type": "code",
   "execution_count": null,
   "metadata": {
    "colab": {
     "base_uri": "https://localhost:8080/",
     "height": 165
    },
    "id": "ZwWMBW_O-QzH",
    "outputId": "8fbd1682-8524-410f-c778-316d8421f36d"
   },
   "outputs": [
    {
     "data": {
      "text/plain": [
       "class\n",
       "0    49200\n",
       "1      492\n",
       "Name: count, dtype: int64"
      ]
     },
     "metadata": {},
     "output_type": "display_data"
    },
    {
     "data": {
      "text/plain": [
       "class\n",
       "0    284315\n",
       "1       492\n",
       "Name: count, dtype: int64"
      ]
     },
     "metadata": {},
     "output_type": "display_data"
    }
   ],
   "source": [
    "# Setting the ratio and seed for reproducibility\n",
    "normal_to_fraud_ratio = 100\n",
    "rng = np.random.default_rng(42)\n",
    "\n",
    "# Choosing the normal transactions at random\n",
    "normal_tranc_index = rng.choice(dataset[dataset[\"class\"] == 0].index, normal_to_fraud_ratio * sum(dataset[\"class\"] == 1), replace=False)\n",
    "\n",
    "# Creating our dataset with the specified ratio of normal to fraudulent transactions\n",
    "df = pd.concat([dataset.iloc[normal_tranc_index], dataset[dataset[\"class\"] == 1]]).reset_index(drop=True)\n",
    "display(df[\"class\"].value_counts())\n",
    "display(dataset[\"class\"].value_counts())"
   ]
  },
  {
   "cell_type": "markdown",
   "metadata": {
    "id": "nqEGrQq2NzeL"
   },
   "source": [
    "As we observe from the above output, we now have a dataset which is significantly smaller (~50k v/s 280k). We aim at using this dataset for training and testing the models to decide the best model for our business problem before training it on the entire dataset and making decisions about the model that is most appropriate for our investigation"
   ]
  },
  {
   "cell_type": "markdown",
   "metadata": {
    "id": "6o6eTByqz190"
   },
   "source": [
    "## Train & Test Split"
   ]
  },
  {
   "cell_type": "markdown",
   "metadata": {
    "id": "YwaFpoLDz8WP"
   },
   "source": [
    "As the dataset is highly skewed we will have to employ some form of stratification in order to prevent our dataset for either training and testing to not have an abundance of fradulent transaction and the other dataset having a dearth of the same.   "
   ]
  },
  {
   "cell_type": "code",
   "execution_count": null,
   "metadata": {
    "id": "xPqqsTRb-QzH"
   },
   "outputs": [],
   "source": [
    "# Defining X and y for train, test split\n",
    "X = df.iloc[:, :-1]\n",
    "y = df.iloc[:, -1] # target variable ('class')\n",
    "\n",
    "# Splitting into Training & Testing - Using 70% for training and 30% for testing\n",
    "# As the dataset is skewed, we will be stratifying based of the class variable for better results.\n",
    "X_train, X_test, y_train, y_test = train_test_split(X, y, test_size=0.3, stratify=y, random_state=42)"
   ]
  },
  {
   "cell_type": "markdown",
   "metadata": {
    "id": "9Z3jdc600VSW"
   },
   "source": [
    "## General Methodology\n",
    "\n",
    "For each classification algorithm that we have tested, we have used a similar approach. Some of the parameters of the algorithm are fixed to ensure no overfitting or quicker convergence while the other parameters are tuned for improved accuracy using GridSearch. Scikit Learn provides the GridSearch functionality that sets each possible combination of hyperparameters provided for the classifier, fits the model, tests it using the scoring metric specified after cross-validation, and helps us identify the best set of hyperparameters.\n",
    "\n",
    "The metric used for our testing is F1 Score, which is the harmonic mean of recall and precision, to combat the model skewness. As the dataset has significantly more number of normal transactions, a model that just classifies each transaction as normal would have been able to achieve 99%+ accuracy.\n",
    "\n",
    "Precision and Recall are metrics that represent the True Positive Rates with respect to amongst the actual positive class, how many were identified as positive class and amongst those identified as a positive class, how many were correctly identified. A harmonic mean ensures the metric to be between 0 and 1 and gives equal importance to both these characteristics.\n",
    "\n",
    "As we have a typical binary classification problem at our hand, the various algorithms we can test it against would include:<br>\n",
    "1. Logistic Regression\n",
    "2. Support Vector Machines\n",
    "3. Random Forest, an ensemble of Decision Trees\n",
    "4. K-Nearest Neighbours.\n",
    "\n",
    "We compared the best estimator from the GridSearch from each of these four algorithms to identify the best one of them all using the F1 Metric and a confusion matrix that provides us with the true positives and negatives as well as the false positives and negatives."
   ]
  },
  {
   "cell_type": "markdown",
   "metadata": {
    "id": "H26O-xIaYvC_"
   },
   "source": [
    "## Random Forest"
   ]
  },
  {
   "cell_type": "markdown",
   "metadata": {
    "id": "j_mEm_tHAbPi"
   },
   "source": [
    "First we will employ the Random Forest algorithm, a robust and versatile machine learning method known for its high accuracy in classification tasks. Random Forest operates by constructing multiple decision trees during training and outputting the class that is the mode of the classes of the individual trees. This ensemble method is particularly effective in handling large datasets with a high dimensionality, like our credit card transaction dataset. By utilizing Random Forest, we aim to efficiently identify fraudulent transactions by capturing the complex patterns and anomalies that are indicative of fraud."
   ]
  },
  {
   "cell_type": "markdown",
   "metadata": {
    "id": "il-7Hl9daYaB"
   },
   "source": [
    "Now we will use a grid search with cross-validation to optimize RandomForestClassifier in order to handre potencially imbalanced classification problems, while aiming to maximize the F1 score metric."
   ]
  },
  {
   "cell_type": "code",
   "execution_count": null,
   "metadata": {
    "colab": {
     "base_uri": "https://localhost:8080/",
     "height": 137
    },
    "id": "EvNpCp2EYy30",
    "outputId": "0ed5afc7-5e1a-4a12-c506-c695dfb9dca2"
   },
   "outputs": [
    {
     "name": "stdout",
     "output_type": "stream",
     "text": [
      "Fitting 2 folds for each of 30 candidates, totalling 60 fits\n"
     ]
    },
    {
     "data": {
      "text/html": [
       "<style>#sk-container-id-1 {color: black;background-color: white;}#sk-container-id-1 pre{padding: 0;}#sk-container-id-1 div.sk-toggleable {background-color: white;}#sk-container-id-1 label.sk-toggleable__label {cursor: pointer;display: block;width: 100%;margin-bottom: 0;padding: 0.3em;box-sizing: border-box;text-align: center;}#sk-container-id-1 label.sk-toggleable__label-arrow:before {content: \"▸\";float: left;margin-right: 0.25em;color: #696969;}#sk-container-id-1 label.sk-toggleable__label-arrow:hover:before {color: black;}#sk-container-id-1 div.sk-estimator:hover label.sk-toggleable__label-arrow:before {color: black;}#sk-container-id-1 div.sk-toggleable__content {max-height: 0;max-width: 0;overflow: hidden;text-align: left;background-color: #f0f8ff;}#sk-container-id-1 div.sk-toggleable__content pre {margin: 0.2em;color: black;border-radius: 0.25em;background-color: #f0f8ff;}#sk-container-id-1 input.sk-toggleable__control:checked~div.sk-toggleable__content {max-height: 200px;max-width: 100%;overflow: auto;}#sk-container-id-1 input.sk-toggleable__control:checked~label.sk-toggleable__label-arrow:before {content: \"▾\";}#sk-container-id-1 div.sk-estimator input.sk-toggleable__control:checked~label.sk-toggleable__label {background-color: #d4ebff;}#sk-container-id-1 div.sk-label input.sk-toggleable__control:checked~label.sk-toggleable__label {background-color: #d4ebff;}#sk-container-id-1 input.sk-hidden--visually {border: 0;clip: rect(1px 1px 1px 1px);clip: rect(1px, 1px, 1px, 1px);height: 1px;margin: -1px;overflow: hidden;padding: 0;position: absolute;width: 1px;}#sk-container-id-1 div.sk-estimator {font-family: monospace;background-color: #f0f8ff;border: 1px dotted black;border-radius: 0.25em;box-sizing: border-box;margin-bottom: 0.5em;}#sk-container-id-1 div.sk-estimator:hover {background-color: #d4ebff;}#sk-container-id-1 div.sk-parallel-item::after {content: \"\";width: 100%;border-bottom: 1px solid gray;flex-grow: 1;}#sk-container-id-1 div.sk-label:hover label.sk-toggleable__label {background-color: #d4ebff;}#sk-container-id-1 div.sk-serial::before {content: \"\";position: absolute;border-left: 1px solid gray;box-sizing: border-box;top: 0;bottom: 0;left: 50%;z-index: 0;}#sk-container-id-1 div.sk-serial {display: flex;flex-direction: column;align-items: center;background-color: white;padding-right: 0.2em;padding-left: 0.2em;position: relative;}#sk-container-id-1 div.sk-item {position: relative;z-index: 1;}#sk-container-id-1 div.sk-parallel {display: flex;align-items: stretch;justify-content: center;background-color: white;position: relative;}#sk-container-id-1 div.sk-item::before, #sk-container-id-1 div.sk-parallel-item::before {content: \"\";position: absolute;border-left: 1px solid gray;box-sizing: border-box;top: 0;bottom: 0;left: 50%;z-index: -1;}#sk-container-id-1 div.sk-parallel-item {display: flex;flex-direction: column;z-index: 1;position: relative;background-color: white;}#sk-container-id-1 div.sk-parallel-item:first-child::after {align-self: flex-end;width: 50%;}#sk-container-id-1 div.sk-parallel-item:last-child::after {align-self: flex-start;width: 50%;}#sk-container-id-1 div.sk-parallel-item:only-child::after {width: 0;}#sk-container-id-1 div.sk-dashed-wrapped {border: 1px dashed gray;margin: 0 0.4em 0.5em 0.4em;box-sizing: border-box;padding-bottom: 0.4em;background-color: white;}#sk-container-id-1 div.sk-label label {font-family: monospace;font-weight: bold;display: inline-block;line-height: 1.2em;}#sk-container-id-1 div.sk-label-container {text-align: center;}#sk-container-id-1 div.sk-container {/* jupyter's `normalize.less` sets `[hidden] { display: none; }` but bootstrap.min.css set `[hidden] { display: none !important; }` so we also need the `!important` here to be able to override the default hidden behavior on the sphinx rendered scikit-learn.org. See: https://github.com/scikit-learn/scikit-learn/issues/21755 */display: inline-block !important;position: relative;}#sk-container-id-1 div.sk-text-repr-fallback {display: none;}</style><div id=\"sk-container-id-1\" class=\"sk-top-container\"><div class=\"sk-text-repr-fallback\"><pre>GridSearchCV(cv=2,\n",
       "             estimator=RandomForestClassifier(class_weight=&#x27;balanced&#x27;,\n",
       "                                              min_samples_leaf=4,\n",
       "                                              min_samples_split=49,\n",
       "                                              random_state=42),\n",
       "             param_grid={&#x27;criterion&#x27;: [&#x27;gini&#x27;, &#x27;entropy&#x27;, &#x27;log_loss&#x27;],\n",
       "                         &#x27;max_depth&#x27;: array([ 1,  2,  3,  4,  5,  6,  7,  8,  9, 10])},\n",
       "             scoring=&#x27;f1&#x27;, verbose=True)</pre><b>In a Jupyter environment, please rerun this cell to show the HTML representation or trust the notebook. <br />On GitHub, the HTML representation is unable to render, please try loading this page with nbviewer.org.</b></div><div class=\"sk-container\" hidden><div class=\"sk-item sk-dashed-wrapped\"><div class=\"sk-label-container\"><div class=\"sk-label sk-toggleable\"><input class=\"sk-toggleable__control sk-hidden--visually\" id=\"sk-estimator-id-1\" type=\"checkbox\" ><label for=\"sk-estimator-id-1\" class=\"sk-toggleable__label sk-toggleable__label-arrow\">GridSearchCV</label><div class=\"sk-toggleable__content\"><pre>GridSearchCV(cv=2,\n",
       "             estimator=RandomForestClassifier(class_weight=&#x27;balanced&#x27;,\n",
       "                                              min_samples_leaf=4,\n",
       "                                              min_samples_split=49,\n",
       "                                              random_state=42),\n",
       "             param_grid={&#x27;criterion&#x27;: [&#x27;gini&#x27;, &#x27;entropy&#x27;, &#x27;log_loss&#x27;],\n",
       "                         &#x27;max_depth&#x27;: array([ 1,  2,  3,  4,  5,  6,  7,  8,  9, 10])},\n",
       "             scoring=&#x27;f1&#x27;, verbose=True)</pre></div></div></div><div class=\"sk-parallel\"><div class=\"sk-parallel-item\"><div class=\"sk-item\"><div class=\"sk-label-container\"><div class=\"sk-label sk-toggleable\"><input class=\"sk-toggleable__control sk-hidden--visually\" id=\"sk-estimator-id-2\" type=\"checkbox\" ><label for=\"sk-estimator-id-2\" class=\"sk-toggleable__label sk-toggleable__label-arrow\">estimator: RandomForestClassifier</label><div class=\"sk-toggleable__content\"><pre>RandomForestClassifier(class_weight=&#x27;balanced&#x27;, min_samples_leaf=4,\n",
       "                       min_samples_split=49, random_state=42)</pre></div></div></div><div class=\"sk-serial\"><div class=\"sk-item\"><div class=\"sk-estimator sk-toggleable\"><input class=\"sk-toggleable__control sk-hidden--visually\" id=\"sk-estimator-id-3\" type=\"checkbox\" ><label for=\"sk-estimator-id-3\" class=\"sk-toggleable__label sk-toggleable__label-arrow\">RandomForestClassifier</label><div class=\"sk-toggleable__content\"><pre>RandomForestClassifier(class_weight=&#x27;balanced&#x27;, min_samples_leaf=4,\n",
       "                       min_samples_split=49, random_state=42)</pre></div></div></div></div></div></div></div></div></div></div>"
      ],
      "text/plain": [
       "GridSearchCV(cv=2,\n",
       "             estimator=RandomForestClassifier(class_weight='balanced',\n",
       "                                              min_samples_leaf=4,\n",
       "                                              min_samples_split=49,\n",
       "                                              random_state=42),\n",
       "             param_grid={'criterion': ['gini', 'entropy', 'log_loss'],\n",
       "                         'max_depth': array([ 1,  2,  3,  4,  5,  6,  7,  8,  9, 10])},\n",
       "             scoring='f1', verbose=True)"
      ]
     },
     "execution_count": 12,
     "metadata": {},
     "output_type": "execute_result"
    }
   ],
   "source": [
    "from sklearn.ensemble import RandomForestClassifier\n",
    "from sklearn.metrics import confusion_matrix, f1_score\n",
    "\n",
    "# For Random Forest, our grid search would be testing:\n",
    "# 1. Criterion: The logic to be used for deciding the best feature for splitting the dataset into two subsets\n",
    "# 2. Max-Depth: The maximum depth of each of the trees as part of the ensemble classifier\n",
    "param_dist = {\n",
    "    \"criterion\": [\"gini\", \"entropy\", \"log_loss\"],\n",
    "    \"max_depth\": np.arange(1, 11, 1),\n",
    "    }\n",
    "\n",
    "# For Random Forest, we set some parameters to prevent overfitting:\n",
    "# 1. n_estimators: The number of trees the ensemble classifier must be consisting of\n",
    "# 2. min_samples_split: The minimum number of samples within a node that must be present to split the node further\n",
    "# 3. min_samples_leaf: The minimum number of samples that must be present in the dataset\n",
    "# 4. class_weight: Makes the data point's importance be inversely proportional to the frequency with which it's class label occurs.\n",
    "rf = RandomForestClassifier(n_estimators=100,\n",
    "                            min_samples_split=len(df) // 1000,\n",
    "                            min_samples_leaf=len(df) // 10000,\n",
    "                            class_weight=\"balanced\",\n",
    "                            random_state=42\n",
    "                            )\n",
    "\n",
    "grid = GridSearchCV(rf, param_dist, cv=2, verbose=True, scoring=\"f1\")\n",
    "grid.fit(X_train, y_train)"
   ]
  },
  {
   "cell_type": "code",
   "execution_count": null,
   "metadata": {
    "colab": {
     "base_uri": "https://localhost:8080/"
    },
    "id": "dsruYXdt-QzI",
    "outputId": "aa51f6be-dc73-44e2-e511-46a773e05557"
   },
   "outputs": [
    {
     "name": "stdout",
     "output_type": "stream",
     "text": [
      "The model's F1 score is: 0.8502\n",
      "--------------------------------------------------------\n",
      "[[14743    17]\n",
      " [   26   122]]\n",
      "--------------------------------------------------------\n",
      "The best number of n_estimators found is: {'criterion': 'entropy', 'max_depth': 8}\n"
     ]
    }
   ],
   "source": [
    "# Getting the best estimator\n",
    "best_model = grid.best_estimator_\n",
    "best_model.fit(X_train, y_train)\n",
    "\n",
    "y_pred = best_model.predict(X_test)\n",
    "\n",
    "# Generating the statistics & best parameters\n",
    "print(f\"The model's F1 score is: {f1_score(y_test, y_pred):.4f}\")\n",
    "print(\"--------------------------------------------------------\")\n",
    "print(confusion_matrix(y_test, y_pred))\n",
    "print(\"--------------------------------------------------------\")\n",
    "print(f\"The best number of n_estimators found is: {grid.best_params_}\")"
   ]
  },
  {
   "cell_type": "markdown",
   "metadata": {
    "id": "5_DcgXgZbfU3"
   },
   "source": [
    "True Positives (TP): These are cases where the model correctly predicts the positive class. In our context, these are the fraudulent transactions that the model correctly identified. Here, 122 transactions were correctly identified as fraudulent.\n",
    "\n",
    "True Negatives (TN): These are cases where the model correctly predicts the negative class. Here, these are the legitimate transactions that the model correctly identified as non-fraudulent. In your matrix, 14743 transactions were correctly identified as legitimate.\n",
    "\n",
    "False Positives (FP): These are cases where the model incorrectly predicts the positive class. In other words, these are the legitimate transactions that were wrongly identified as fraudulent. The matrix shows 17 such transactions.\n",
    "\n",
    "False Negatives (FN): These are cases where the model incorrectly predicts the negative class. These are the fraudulent transactions that the model failed to catch. According to your matrix, there were 26 such cases"
   ]
  },
  {
   "cell_type": "markdown",
   "metadata": {
    "id": "_-IKiDnzbUTz"
   },
   "source": [
    "These metrics suggest that the model is quite accurate overall with a good ability to identify fraudulent transactions, although there is some room for improvement in precision to reduce the number of legitimate transactions falsely flagged as fraudulent"
   ]
  },
  {
   "cell_type": "markdown",
   "metadata": {
    "id": "G7hIAPKxcxM2"
   },
   "source": [
    "## KNN"
   ]
  },
  {
   "cell_type": "markdown",
   "metadata": {
    "id": "9wvyEc3YsgIU"
   },
   "source": [
    "Now we will implement the K-Nearest Neighbors (KNN) algorithm, a straightforward yet powerful machine learning technique. KNN classifies new cases based on a similarity measure (usually distance functions) with known cases. This method involves identifying the predefined number of training samples closest in distance to the new point, and predicting the label from these."
   ]
  },
  {
   "cell_type": "markdown",
   "metadata": {
    "id": "D_aoaRWUbtQ0"
   },
   "source": [
    "The next code aims to find the best parameters for KNN in order to improve the model"
   ]
  },
  {
   "cell_type": "code",
   "execution_count": null,
   "metadata": {
    "colab": {
     "base_uri": "https://localhost:8080/",
     "height": 137
    },
    "id": "EVgMs8A2dP7V",
    "outputId": "b16f76d2-9280-4c89-f17d-802a66b17df6"
   },
   "outputs": [
    {
     "name": "stdout",
     "output_type": "stream",
     "text": [
      "Fitting 2 folds for each of 40 candidates, totalling 80 fits\n"
     ]
    },
    {
     "data": {
      "text/html": [
       "<style>#sk-container-id-2 {color: black;background-color: white;}#sk-container-id-2 pre{padding: 0;}#sk-container-id-2 div.sk-toggleable {background-color: white;}#sk-container-id-2 label.sk-toggleable__label {cursor: pointer;display: block;width: 100%;margin-bottom: 0;padding: 0.3em;box-sizing: border-box;text-align: center;}#sk-container-id-2 label.sk-toggleable__label-arrow:before {content: \"▸\";float: left;margin-right: 0.25em;color: #696969;}#sk-container-id-2 label.sk-toggleable__label-arrow:hover:before {color: black;}#sk-container-id-2 div.sk-estimator:hover label.sk-toggleable__label-arrow:before {color: black;}#sk-container-id-2 div.sk-toggleable__content {max-height: 0;max-width: 0;overflow: hidden;text-align: left;background-color: #f0f8ff;}#sk-container-id-2 div.sk-toggleable__content pre {margin: 0.2em;color: black;border-radius: 0.25em;background-color: #f0f8ff;}#sk-container-id-2 input.sk-toggleable__control:checked~div.sk-toggleable__content {max-height: 200px;max-width: 100%;overflow: auto;}#sk-container-id-2 input.sk-toggleable__control:checked~label.sk-toggleable__label-arrow:before {content: \"▾\";}#sk-container-id-2 div.sk-estimator input.sk-toggleable__control:checked~label.sk-toggleable__label {background-color: #d4ebff;}#sk-container-id-2 div.sk-label input.sk-toggleable__control:checked~label.sk-toggleable__label {background-color: #d4ebff;}#sk-container-id-2 input.sk-hidden--visually {border: 0;clip: rect(1px 1px 1px 1px);clip: rect(1px, 1px, 1px, 1px);height: 1px;margin: -1px;overflow: hidden;padding: 0;position: absolute;width: 1px;}#sk-container-id-2 div.sk-estimator {font-family: monospace;background-color: #f0f8ff;border: 1px dotted black;border-radius: 0.25em;box-sizing: border-box;margin-bottom: 0.5em;}#sk-container-id-2 div.sk-estimator:hover {background-color: #d4ebff;}#sk-container-id-2 div.sk-parallel-item::after {content: \"\";width: 100%;border-bottom: 1px solid gray;flex-grow: 1;}#sk-container-id-2 div.sk-label:hover label.sk-toggleable__label {background-color: #d4ebff;}#sk-container-id-2 div.sk-serial::before {content: \"\";position: absolute;border-left: 1px solid gray;box-sizing: border-box;top: 0;bottom: 0;left: 50%;z-index: 0;}#sk-container-id-2 div.sk-serial {display: flex;flex-direction: column;align-items: center;background-color: white;padding-right: 0.2em;padding-left: 0.2em;position: relative;}#sk-container-id-2 div.sk-item {position: relative;z-index: 1;}#sk-container-id-2 div.sk-parallel {display: flex;align-items: stretch;justify-content: center;background-color: white;position: relative;}#sk-container-id-2 div.sk-item::before, #sk-container-id-2 div.sk-parallel-item::before {content: \"\";position: absolute;border-left: 1px solid gray;box-sizing: border-box;top: 0;bottom: 0;left: 50%;z-index: -1;}#sk-container-id-2 div.sk-parallel-item {display: flex;flex-direction: column;z-index: 1;position: relative;background-color: white;}#sk-container-id-2 div.sk-parallel-item:first-child::after {align-self: flex-end;width: 50%;}#sk-container-id-2 div.sk-parallel-item:last-child::after {align-self: flex-start;width: 50%;}#sk-container-id-2 div.sk-parallel-item:only-child::after {width: 0;}#sk-container-id-2 div.sk-dashed-wrapped {border: 1px dashed gray;margin: 0 0.4em 0.5em 0.4em;box-sizing: border-box;padding-bottom: 0.4em;background-color: white;}#sk-container-id-2 div.sk-label label {font-family: monospace;font-weight: bold;display: inline-block;line-height: 1.2em;}#sk-container-id-2 div.sk-label-container {text-align: center;}#sk-container-id-2 div.sk-container {/* jupyter's `normalize.less` sets `[hidden] { display: none; }` but bootstrap.min.css set `[hidden] { display: none !important; }` so we also need the `!important` here to be able to override the default hidden behavior on the sphinx rendered scikit-learn.org. See: https://github.com/scikit-learn/scikit-learn/issues/21755 */display: inline-block !important;position: relative;}#sk-container-id-2 div.sk-text-repr-fallback {display: none;}</style><div id=\"sk-container-id-2\" class=\"sk-top-container\"><div class=\"sk-text-repr-fallback\"><pre>GridSearchCV(cv=2, estimator=KNeighborsClassifier(),\n",
       "             param_grid={&#x27;metric&#x27;: [&#x27;euclidean&#x27;, &#x27;manhattan&#x27;],\n",
       "                         &#x27;n_neighbors&#x27;: array([ 1,  3,  5,  7,  9, 11, 13, 15, 17, 19]),\n",
       "                         &#x27;weights&#x27;: [&#x27;uniform&#x27;, &#x27;distance&#x27;]},\n",
       "             scoring=&#x27;f1&#x27;, verbose=True)</pre><b>In a Jupyter environment, please rerun this cell to show the HTML representation or trust the notebook. <br />On GitHub, the HTML representation is unable to render, please try loading this page with nbviewer.org.</b></div><div class=\"sk-container\" hidden><div class=\"sk-item sk-dashed-wrapped\"><div class=\"sk-label-container\"><div class=\"sk-label sk-toggleable\"><input class=\"sk-toggleable__control sk-hidden--visually\" id=\"sk-estimator-id-4\" type=\"checkbox\" ><label for=\"sk-estimator-id-4\" class=\"sk-toggleable__label sk-toggleable__label-arrow\">GridSearchCV</label><div class=\"sk-toggleable__content\"><pre>GridSearchCV(cv=2, estimator=KNeighborsClassifier(),\n",
       "             param_grid={&#x27;metric&#x27;: [&#x27;euclidean&#x27;, &#x27;manhattan&#x27;],\n",
       "                         &#x27;n_neighbors&#x27;: array([ 1,  3,  5,  7,  9, 11, 13, 15, 17, 19]),\n",
       "                         &#x27;weights&#x27;: [&#x27;uniform&#x27;, &#x27;distance&#x27;]},\n",
       "             scoring=&#x27;f1&#x27;, verbose=True)</pre></div></div></div><div class=\"sk-parallel\"><div class=\"sk-parallel-item\"><div class=\"sk-item\"><div class=\"sk-label-container\"><div class=\"sk-label sk-toggleable\"><input class=\"sk-toggleable__control sk-hidden--visually\" id=\"sk-estimator-id-5\" type=\"checkbox\" ><label for=\"sk-estimator-id-5\" class=\"sk-toggleable__label sk-toggleable__label-arrow\">estimator: KNeighborsClassifier</label><div class=\"sk-toggleable__content\"><pre>KNeighborsClassifier()</pre></div></div></div><div class=\"sk-serial\"><div class=\"sk-item\"><div class=\"sk-estimator sk-toggleable\"><input class=\"sk-toggleable__control sk-hidden--visually\" id=\"sk-estimator-id-6\" type=\"checkbox\" ><label for=\"sk-estimator-id-6\" class=\"sk-toggleable__label sk-toggleable__label-arrow\">KNeighborsClassifier</label><div class=\"sk-toggleable__content\"><pre>KNeighborsClassifier()</pre></div></div></div></div></div></div></div></div></div></div>"
      ],
      "text/plain": [
       "GridSearchCV(cv=2, estimator=KNeighborsClassifier(),\n",
       "             param_grid={'metric': ['euclidean', 'manhattan'],\n",
       "                         'n_neighbors': array([ 1,  3,  5,  7,  9, 11, 13, 15, 17, 19]),\n",
       "                         'weights': ['uniform', 'distance']},\n",
       "             scoring='f1', verbose=True)"
      ]
     },
     "execution_count": 14,
     "metadata": {},
     "output_type": "execute_result"
    }
   ],
   "source": [
    "from sklearn.neighbors import KNeighborsClassifier\n",
    "from sklearn.metrics import confusion_matrix, f1_score\n",
    "\n",
    "# For KNN, our grid search would be testing:\n",
    "# 1. n_neighbors: The number of neighbors to be considered for deciding the label for a particular new data point.\n",
    "# 2. metric: The manner in which the distance must be computed to find the k nearest neighbours\n",
    "# 3. weights: Whether the neighbours identified must be given different importance based on their proximity to the new data point or not.\n",
    "param_dist = {\n",
    "    'n_neighbors': np.arange(1, 20, 2),\n",
    "    'metric': ['euclidean', 'manhattan'],\n",
    "    'weights': ['uniform', 'distance']\n",
    "}\n",
    "\n",
    "knn = KNeighborsClassifier()\n",
    "\n",
    "grid = GridSearchCV(knn, param_dist, cv=2, verbose=True, scoring='f1')\n",
    "grid.fit(X_train, y_train)"
   ]
  },
  {
   "cell_type": "code",
   "execution_count": null,
   "metadata": {
    "colab": {
     "base_uri": "https://localhost:8080/"
    },
    "id": "Sc4tJXoRe0DY",
    "outputId": "a86b25c9-3084-4018-e6e6-6b03613287a3"
   },
   "outputs": [
    {
     "name": "stdout",
     "output_type": "stream",
     "text": [
      "The model's F1 score is: 0.8217\n",
      "--------------------------------------------------------\n",
      "[[14756     4]\n",
      " [   42   106]]\n",
      "--------------------------------------------------------\n",
      "The best number of n_estimators found is: {'metric': 'manhattan', 'n_neighbors': 15, 'weights': 'uniform'}\n"
     ]
    }
   ],
   "source": [
    "# Getting the best estimator\n",
    "best_model = grid.best_estimator_\n",
    "best_model.fit(X_train, y_train)\n",
    "\n",
    "y_pred = best_model.predict(X_test)\n",
    "\n",
    "# Generating the statistics & best parameters\n",
    "print(f\"The model's F1 score is: {f1_score(y_test, y_pred):.4f}\")\n",
    "print(\"--------------------------------------------------------\")\n",
    "print(confusion_matrix(y_test, y_pred))\n",
    "print(\"--------------------------------------------------------\")\n",
    "print(f\"The best number of n_estimators found is: {grid.best_params_}\")"
   ]
  },
  {
   "cell_type": "markdown",
   "metadata": {
    "id": "q3UJIg8rdjpj"
   },
   "source": [
    "True Positives (TP): The model correctly identified 106 fraudulent transactions.\n",
    "\n",
    "True Negatives (TN): The model correctly identified 14756 legitimate transactions.\n",
    "\n",
    "False Positives (FP): The model incorrectly labeled 4 legitimate transactions as fraudulent.\n",
    "\n",
    "False Negatives (FN): The model failed to detect 42 fraudulent transactions."
   ]
  },
  {
   "cell_type": "markdown",
   "metadata": {
    "id": "vcCOuhYVfPnf"
   },
   "source": [
    "## Logistic Regresion"
   ]
  },
  {
   "cell_type": "markdown",
   "metadata": {
    "id": "8zElIQkls1JE"
   },
   "source": [
    "We will utilize Logistic Regression as a method for detecting credit card fraud. This statistical model predicts the probability of a categorical dependent variable— in this case, fraudulent or non-fraudulent transactions—based on one or more predictor variables. It works well for binary classification tasks and is valued for its simplicity and efficiency in providing probabilistic predictions. Logistic Regression is particularly useful in our context as it allows for easy interpretation of the influence of each feature on the likelihood of a transaction being fraudulent. We will fine-tune this model to optimize its performance on our unbalanced dataset, aiming to achieve high accuracy in identifying fraudulent activities."
   ]
  },
  {
   "cell_type": "markdown",
   "metadata": {
    "id": "peqNLHLDdrIW"
   },
   "source": [
    "Gridsearch to find the best parameters for the model"
   ]
  },
  {
   "cell_type": "code",
   "execution_count": null,
   "metadata": {
    "colab": {
     "base_uri": "https://localhost:8080/",
     "height": 137
    },
    "id": "Z2K4Be2RfX4H",
    "outputId": "18363467-0a5f-48e9-eafb-8d7a1609aba6"
   },
   "outputs": [
    {
     "name": "stdout",
     "output_type": "stream",
     "text": [
      "Fitting 2 folds for each of 90 candidates, totalling 180 fits\n"
     ]
    },
    {
     "data": {
      "text/html": [
       "<style>#sk-container-id-3 {color: black;background-color: white;}#sk-container-id-3 pre{padding: 0;}#sk-container-id-3 div.sk-toggleable {background-color: white;}#sk-container-id-3 label.sk-toggleable__label {cursor: pointer;display: block;width: 100%;margin-bottom: 0;padding: 0.3em;box-sizing: border-box;text-align: center;}#sk-container-id-3 label.sk-toggleable__label-arrow:before {content: \"▸\";float: left;margin-right: 0.25em;color: #696969;}#sk-container-id-3 label.sk-toggleable__label-arrow:hover:before {color: black;}#sk-container-id-3 div.sk-estimator:hover label.sk-toggleable__label-arrow:before {color: black;}#sk-container-id-3 div.sk-toggleable__content {max-height: 0;max-width: 0;overflow: hidden;text-align: left;background-color: #f0f8ff;}#sk-container-id-3 div.sk-toggleable__content pre {margin: 0.2em;color: black;border-radius: 0.25em;background-color: #f0f8ff;}#sk-container-id-3 input.sk-toggleable__control:checked~div.sk-toggleable__content {max-height: 200px;max-width: 100%;overflow: auto;}#sk-container-id-3 input.sk-toggleable__control:checked~label.sk-toggleable__label-arrow:before {content: \"▾\";}#sk-container-id-3 div.sk-estimator input.sk-toggleable__control:checked~label.sk-toggleable__label {background-color: #d4ebff;}#sk-container-id-3 div.sk-label input.sk-toggleable__control:checked~label.sk-toggleable__label {background-color: #d4ebff;}#sk-container-id-3 input.sk-hidden--visually {border: 0;clip: rect(1px 1px 1px 1px);clip: rect(1px, 1px, 1px, 1px);height: 1px;margin: -1px;overflow: hidden;padding: 0;position: absolute;width: 1px;}#sk-container-id-3 div.sk-estimator {font-family: monospace;background-color: #f0f8ff;border: 1px dotted black;border-radius: 0.25em;box-sizing: border-box;margin-bottom: 0.5em;}#sk-container-id-3 div.sk-estimator:hover {background-color: #d4ebff;}#sk-container-id-3 div.sk-parallel-item::after {content: \"\";width: 100%;border-bottom: 1px solid gray;flex-grow: 1;}#sk-container-id-3 div.sk-label:hover label.sk-toggleable__label {background-color: #d4ebff;}#sk-container-id-3 div.sk-serial::before {content: \"\";position: absolute;border-left: 1px solid gray;box-sizing: border-box;top: 0;bottom: 0;left: 50%;z-index: 0;}#sk-container-id-3 div.sk-serial {display: flex;flex-direction: column;align-items: center;background-color: white;padding-right: 0.2em;padding-left: 0.2em;position: relative;}#sk-container-id-3 div.sk-item {position: relative;z-index: 1;}#sk-container-id-3 div.sk-parallel {display: flex;align-items: stretch;justify-content: center;background-color: white;position: relative;}#sk-container-id-3 div.sk-item::before, #sk-container-id-3 div.sk-parallel-item::before {content: \"\";position: absolute;border-left: 1px solid gray;box-sizing: border-box;top: 0;bottom: 0;left: 50%;z-index: -1;}#sk-container-id-3 div.sk-parallel-item {display: flex;flex-direction: column;z-index: 1;position: relative;background-color: white;}#sk-container-id-3 div.sk-parallel-item:first-child::after {align-self: flex-end;width: 50%;}#sk-container-id-3 div.sk-parallel-item:last-child::after {align-self: flex-start;width: 50%;}#sk-container-id-3 div.sk-parallel-item:only-child::after {width: 0;}#sk-container-id-3 div.sk-dashed-wrapped {border: 1px dashed gray;margin: 0 0.4em 0.5em 0.4em;box-sizing: border-box;padding-bottom: 0.4em;background-color: white;}#sk-container-id-3 div.sk-label label {font-family: monospace;font-weight: bold;display: inline-block;line-height: 1.2em;}#sk-container-id-3 div.sk-label-container {text-align: center;}#sk-container-id-3 div.sk-container {/* jupyter's `normalize.less` sets `[hidden] { display: none; }` but bootstrap.min.css set `[hidden] { display: none !important; }` so we also need the `!important` here to be able to override the default hidden behavior on the sphinx rendered scikit-learn.org. See: https://github.com/scikit-learn/scikit-learn/issues/21755 */display: inline-block !important;position: relative;}#sk-container-id-3 div.sk-text-repr-fallback {display: none;}</style><div id=\"sk-container-id-3\" class=\"sk-top-container\"><div class=\"sk-text-repr-fallback\"><pre>GridSearchCV(cv=2,\n",
       "             estimator=LogisticRegression(class_weight=&#x27;balanced&#x27;,\n",
       "                                          max_iter=1000, random_state=42),\n",
       "             param_grid={&#x27;C&#x27;: array([1.e+01, 1.e+00, 1.e-01, 1.e-02, 1.e-03]),\n",
       "                         &#x27;l1_ratio&#x27;: [0, 0.5, 1],\n",
       "                         &#x27;solver&#x27;: [&#x27;lbfgs&#x27;, &#x27;liblinear&#x27;, &#x27;newton-cg&#x27;,\n",
       "                                    &#x27;newton-cholesky&#x27;, &#x27;sag&#x27;, &#x27;saga&#x27;]},\n",
       "             scoring=&#x27;f1&#x27;, verbose=True)</pre><b>In a Jupyter environment, please rerun this cell to show the HTML representation or trust the notebook. <br />On GitHub, the HTML representation is unable to render, please try loading this page with nbviewer.org.</b></div><div class=\"sk-container\" hidden><div class=\"sk-item sk-dashed-wrapped\"><div class=\"sk-label-container\"><div class=\"sk-label sk-toggleable\"><input class=\"sk-toggleable__control sk-hidden--visually\" id=\"sk-estimator-id-7\" type=\"checkbox\" ><label for=\"sk-estimator-id-7\" class=\"sk-toggleable__label sk-toggleable__label-arrow\">GridSearchCV</label><div class=\"sk-toggleable__content\"><pre>GridSearchCV(cv=2,\n",
       "             estimator=LogisticRegression(class_weight=&#x27;balanced&#x27;,\n",
       "                                          max_iter=1000, random_state=42),\n",
       "             param_grid={&#x27;C&#x27;: array([1.e+01, 1.e+00, 1.e-01, 1.e-02, 1.e-03]),\n",
       "                         &#x27;l1_ratio&#x27;: [0, 0.5, 1],\n",
       "                         &#x27;solver&#x27;: [&#x27;lbfgs&#x27;, &#x27;liblinear&#x27;, &#x27;newton-cg&#x27;,\n",
       "                                    &#x27;newton-cholesky&#x27;, &#x27;sag&#x27;, &#x27;saga&#x27;]},\n",
       "             scoring=&#x27;f1&#x27;, verbose=True)</pre></div></div></div><div class=\"sk-parallel\"><div class=\"sk-parallel-item\"><div class=\"sk-item\"><div class=\"sk-label-container\"><div class=\"sk-label sk-toggleable\"><input class=\"sk-toggleable__control sk-hidden--visually\" id=\"sk-estimator-id-8\" type=\"checkbox\" ><label for=\"sk-estimator-id-8\" class=\"sk-toggleable__label sk-toggleable__label-arrow\">estimator: LogisticRegression</label><div class=\"sk-toggleable__content\"><pre>LogisticRegression(class_weight=&#x27;balanced&#x27;, max_iter=1000, random_state=42)</pre></div></div></div><div class=\"sk-serial\"><div class=\"sk-item\"><div class=\"sk-estimator sk-toggleable\"><input class=\"sk-toggleable__control sk-hidden--visually\" id=\"sk-estimator-id-9\" type=\"checkbox\" ><label for=\"sk-estimator-id-9\" class=\"sk-toggleable__label sk-toggleable__label-arrow\">LogisticRegression</label><div class=\"sk-toggleable__content\"><pre>LogisticRegression(class_weight=&#x27;balanced&#x27;, max_iter=1000, random_state=42)</pre></div></div></div></div></div></div></div></div></div></div>"
      ],
      "text/plain": [
       "GridSearchCV(cv=2,\n",
       "             estimator=LogisticRegression(class_weight='balanced',\n",
       "                                          max_iter=1000, random_state=42),\n",
       "             param_grid={'C': array([1.e+01, 1.e+00, 1.e-01, 1.e-02, 1.e-03]),\n",
       "                         'l1_ratio': [0, 0.5, 1],\n",
       "                         'solver': ['lbfgs', 'liblinear', 'newton-cg',\n",
       "                                    'newton-cholesky', 'sag', 'saga']},\n",
       "             scoring='f1', verbose=True)"
      ]
     },
     "execution_count": 16,
     "metadata": {},
     "output_type": "execute_result"
    }
   ],
   "source": [
    "from sklearn.linear_model import LogisticRegression\n",
    "from sklearn.metrics import confusion_matrix, f1_score\n",
    "\n",
    "# For Logstict Regression, our grid search would be testing:\n",
    "# 1. C: The regularization constant, it provides the weightage for the amount of L1 (Lasso) and L2 (Ridge) Regularization.\n",
    "# 2. solver: The logic that must be used to converge to the optimum solution\n",
    "# 3. l1_ratio: It allows us to cover the scenario: Apply Lasso only, Apply equal weightage Lasso and Ridge, Apply Ridge only\n",
    "param_dist = {\n",
    "    \"C\": 100 / 10 ** np.arange(1, 6),\n",
    "    \"solver\": ['lbfgs', 'liblinear', 'newton-cg', 'newton-cholesky', 'sag', 'saga'],\n",
    "    \"l1_ratio\": [0, 0.5, 1]\n",
    "}\n",
    "\n",
    "# For Logstict Regression, we set some parameters:\n",
    "# 1. fit_intercept: To allow the use of Beta0, the intercept within the equation\n",
    "# 2. max_iter: The maximum number of iterations that the logic can run for to converge onto the optimum solution\n",
    "# 3. class_weight: Makes the data point's importance be inversely proportional to the frequency with which it's class label occurs.\n",
    "logistic = LogisticRegression(fit_intercept=True, max_iter=1000, random_state=42, class_weight=\"balanced\")\n",
    "\n",
    "grid = GridSearchCV(logistic, param_dist, cv=2, verbose=True, scoring='f1')\n",
    "grid.fit(X_train, y_train)"
   ]
  },
  {
   "cell_type": "code",
   "execution_count": null,
   "metadata": {
    "colab": {
     "base_uri": "https://localhost:8080/"
    },
    "id": "NIZ-_0SdsPV9",
    "outputId": "540ce1fa-24b3-497a-a058-2257901e940c"
   },
   "outputs": [
    {
     "name": "stdout",
     "output_type": "stream",
     "text": [
      "The model's F1 score is: 0.5122\n",
      "--------------------------------------------------------\n",
      "[[14542   218]\n",
      " [   22   126]]\n",
      "--------------------------------------------------------\n",
      "The best number of n_estimators found is: {'C': 0.001, 'l1_ratio': 0, 'solver': 'lbfgs'}\n"
     ]
    }
   ],
   "source": [
    "# Getting the best estimator\n",
    "best_model = grid.best_estimator_\n",
    "best_model.fit(X_train, y_train)\n",
    "\n",
    "y_pred = best_model.predict(X_test)\n",
    "\n",
    "# Generating the statistics & best parameters\n",
    "print(f\"The model's F1 score is: {f1_score(y_test, y_pred):.4f}\")\n",
    "print(\"--------------------------------------------------------\")\n",
    "print(confusion_matrix(y_test, y_pred))\n",
    "print(\"--------------------------------------------------------\")\n",
    "print(f\"The best number of n_estimators found is: {grid.best_params_}\")"
   ]
  },
  {
   "cell_type": "markdown",
   "metadata": {
    "id": "XdDK7ubGd7S1"
   },
   "source": [
    "True Positives (TP): The model correctly identified 126 fraudulent transactions.\n",
    "\n",
    "True Negatives (TN): The model correctly identified 14542 legitimate transactions.\n",
    "\n",
    "False Positives (FP): The model incorrectly labeled 218 legitimate transactions as fraudulent.\n",
    "\n",
    "False Negatives (FN): The model failed to detect 22 fraudulent transactions."
   ]
  },
  {
   "cell_type": "markdown",
   "metadata": {
    "id": "XE4tzqscfgLF"
   },
   "source": [
    "## SVM"
   ]
  },
  {
   "cell_type": "markdown",
   "metadata": {
    "id": "M_EGVAsgs4gU"
   },
   "source": [
    "Now we will use Support Vector Machine (SVM) algorithm into our analysis. SVM is a powerful and versatile machine learning technique, widely used for classification tasks. It works by finding the hyperplane that best separates the classes in the feature space, maximizing the margin between the closest points of the classes, which are known as support vectors. This characteristic makes SVM highly effective in handling complex and high-dimensional data. We will utilize SVM to differentiate between fraudulent and legitimate transactions, tuning its parameters to adapt to the unique challenges posed by our unbalanced dataset. This will involve adjusting the kernel type and regularization parameter to optimize the model's sensitivity and specificity in fraud detection"
   ]
  },
  {
   "cell_type": "markdown",
   "metadata": {
    "id": "OGjBbPo7eD2r"
   },
   "source": [
    "Gridsearch for best parameters"
   ]
  },
  {
   "cell_type": "code",
   "execution_count": null,
   "metadata": {
    "colab": {
     "base_uri": "https://localhost:8080/",
     "height": 137
    },
    "id": "KmvgVe2Wfhcs",
    "outputId": "8348a057-6b94-4796-ed42-27158669c327"
   },
   "outputs": [
    {
     "name": "stdout",
     "output_type": "stream",
     "text": [
      "Fitting 2 folds for each of 15 candidates, totalling 30 fits\n"
     ]
    },
    {
     "data": {
      "text/html": [
       "<style>#sk-container-id-4 {color: black;background-color: white;}#sk-container-id-4 pre{padding: 0;}#sk-container-id-4 div.sk-toggleable {background-color: white;}#sk-container-id-4 label.sk-toggleable__label {cursor: pointer;display: block;width: 100%;margin-bottom: 0;padding: 0.3em;box-sizing: border-box;text-align: center;}#sk-container-id-4 label.sk-toggleable__label-arrow:before {content: \"▸\";float: left;margin-right: 0.25em;color: #696969;}#sk-container-id-4 label.sk-toggleable__label-arrow:hover:before {color: black;}#sk-container-id-4 div.sk-estimator:hover label.sk-toggleable__label-arrow:before {color: black;}#sk-container-id-4 div.sk-toggleable__content {max-height: 0;max-width: 0;overflow: hidden;text-align: left;background-color: #f0f8ff;}#sk-container-id-4 div.sk-toggleable__content pre {margin: 0.2em;color: black;border-radius: 0.25em;background-color: #f0f8ff;}#sk-container-id-4 input.sk-toggleable__control:checked~div.sk-toggleable__content {max-height: 200px;max-width: 100%;overflow: auto;}#sk-container-id-4 input.sk-toggleable__control:checked~label.sk-toggleable__label-arrow:before {content: \"▾\";}#sk-container-id-4 div.sk-estimator input.sk-toggleable__control:checked~label.sk-toggleable__label {background-color: #d4ebff;}#sk-container-id-4 div.sk-label input.sk-toggleable__control:checked~label.sk-toggleable__label {background-color: #d4ebff;}#sk-container-id-4 input.sk-hidden--visually {border: 0;clip: rect(1px 1px 1px 1px);clip: rect(1px, 1px, 1px, 1px);height: 1px;margin: -1px;overflow: hidden;padding: 0;position: absolute;width: 1px;}#sk-container-id-4 div.sk-estimator {font-family: monospace;background-color: #f0f8ff;border: 1px dotted black;border-radius: 0.25em;box-sizing: border-box;margin-bottom: 0.5em;}#sk-container-id-4 div.sk-estimator:hover {background-color: #d4ebff;}#sk-container-id-4 div.sk-parallel-item::after {content: \"\";width: 100%;border-bottom: 1px solid gray;flex-grow: 1;}#sk-container-id-4 div.sk-label:hover label.sk-toggleable__label {background-color: #d4ebff;}#sk-container-id-4 div.sk-serial::before {content: \"\";position: absolute;border-left: 1px solid gray;box-sizing: border-box;top: 0;bottom: 0;left: 50%;z-index: 0;}#sk-container-id-4 div.sk-serial {display: flex;flex-direction: column;align-items: center;background-color: white;padding-right: 0.2em;padding-left: 0.2em;position: relative;}#sk-container-id-4 div.sk-item {position: relative;z-index: 1;}#sk-container-id-4 div.sk-parallel {display: flex;align-items: stretch;justify-content: center;background-color: white;position: relative;}#sk-container-id-4 div.sk-item::before, #sk-container-id-4 div.sk-parallel-item::before {content: \"\";position: absolute;border-left: 1px solid gray;box-sizing: border-box;top: 0;bottom: 0;left: 50%;z-index: -1;}#sk-container-id-4 div.sk-parallel-item {display: flex;flex-direction: column;z-index: 1;position: relative;background-color: white;}#sk-container-id-4 div.sk-parallel-item:first-child::after {align-self: flex-end;width: 50%;}#sk-container-id-4 div.sk-parallel-item:last-child::after {align-self: flex-start;width: 50%;}#sk-container-id-4 div.sk-parallel-item:only-child::after {width: 0;}#sk-container-id-4 div.sk-dashed-wrapped {border: 1px dashed gray;margin: 0 0.4em 0.5em 0.4em;box-sizing: border-box;padding-bottom: 0.4em;background-color: white;}#sk-container-id-4 div.sk-label label {font-family: monospace;font-weight: bold;display: inline-block;line-height: 1.2em;}#sk-container-id-4 div.sk-label-container {text-align: center;}#sk-container-id-4 div.sk-container {/* jupyter's `normalize.less` sets `[hidden] { display: none; }` but bootstrap.min.css set `[hidden] { display: none !important; }` so we also need the `!important` here to be able to override the default hidden behavior on the sphinx rendered scikit-learn.org. See: https://github.com/scikit-learn/scikit-learn/issues/21755 */display: inline-block !important;position: relative;}#sk-container-id-4 div.sk-text-repr-fallback {display: none;}</style><div id=\"sk-container-id-4\" class=\"sk-top-container\"><div class=\"sk-text-repr-fallback\"><pre>GridSearchCV(cv=2,\n",
       "             estimator=SVC(class_weight=&#x27;balanced&#x27;, max_iter=1000,\n",
       "                           random_state=42),\n",
       "             param_grid={&#x27;C&#x27;: array([1.e+01, 1.e+00, 1.e-01, 1.e-02, 1.e-03]),\n",
       "                         &#x27;kernel&#x27;: [&#x27;linear&#x27;, &#x27;rbf&#x27;, &#x27;sigmoid&#x27;]},\n",
       "             scoring=&#x27;f1&#x27;, verbose=True)</pre><b>In a Jupyter environment, please rerun this cell to show the HTML representation or trust the notebook. <br />On GitHub, the HTML representation is unable to render, please try loading this page with nbviewer.org.</b></div><div class=\"sk-container\" hidden><div class=\"sk-item sk-dashed-wrapped\"><div class=\"sk-label-container\"><div class=\"sk-label sk-toggleable\"><input class=\"sk-toggleable__control sk-hidden--visually\" id=\"sk-estimator-id-10\" type=\"checkbox\" ><label for=\"sk-estimator-id-10\" class=\"sk-toggleable__label sk-toggleable__label-arrow\">GridSearchCV</label><div class=\"sk-toggleable__content\"><pre>GridSearchCV(cv=2,\n",
       "             estimator=SVC(class_weight=&#x27;balanced&#x27;, max_iter=1000,\n",
       "                           random_state=42),\n",
       "             param_grid={&#x27;C&#x27;: array([1.e+01, 1.e+00, 1.e-01, 1.e-02, 1.e-03]),\n",
       "                         &#x27;kernel&#x27;: [&#x27;linear&#x27;, &#x27;rbf&#x27;, &#x27;sigmoid&#x27;]},\n",
       "             scoring=&#x27;f1&#x27;, verbose=True)</pre></div></div></div><div class=\"sk-parallel\"><div class=\"sk-parallel-item\"><div class=\"sk-item\"><div class=\"sk-label-container\"><div class=\"sk-label sk-toggleable\"><input class=\"sk-toggleable__control sk-hidden--visually\" id=\"sk-estimator-id-11\" type=\"checkbox\" ><label for=\"sk-estimator-id-11\" class=\"sk-toggleable__label sk-toggleable__label-arrow\">estimator: SVC</label><div class=\"sk-toggleable__content\"><pre>SVC(class_weight=&#x27;balanced&#x27;, max_iter=1000, random_state=42)</pre></div></div></div><div class=\"sk-serial\"><div class=\"sk-item\"><div class=\"sk-estimator sk-toggleable\"><input class=\"sk-toggleable__control sk-hidden--visually\" id=\"sk-estimator-id-12\" type=\"checkbox\" ><label for=\"sk-estimator-id-12\" class=\"sk-toggleable__label sk-toggleable__label-arrow\">SVC</label><div class=\"sk-toggleable__content\"><pre>SVC(class_weight=&#x27;balanced&#x27;, max_iter=1000, random_state=42)</pre></div></div></div></div></div></div></div></div></div></div>"
      ],
      "text/plain": [
       "GridSearchCV(cv=2,\n",
       "             estimator=SVC(class_weight='balanced', max_iter=1000,\n",
       "                           random_state=42),\n",
       "             param_grid={'C': array([1.e+01, 1.e+00, 1.e-01, 1.e-02, 1.e-03]),\n",
       "                         'kernel': ['linear', 'rbf', 'sigmoid']},\n",
       "             scoring='f1', verbose=True)"
      ]
     },
     "execution_count": 18,
     "metadata": {},
     "output_type": "execute_result"
    }
   ],
   "source": [
    "from sklearn.svm import SVC\n",
    "from sklearn.metrics import confusion_matrix, f1_score\n",
    "\n",
    "# For SVM, our grid search would be testing:\n",
    "# 1. C: The regularization constant, it provides the weightage for L2 (Ridge) Regularization.\n",
    "# 2. kernel: The shape of the decision boundary\n",
    "param_dist = {\n",
    "    \"C\": 100 / 10 ** np.arange(1, 6),\n",
    "    'kernel': ['linear', 'rbf', 'sigmoid']\n",
    "}\n",
    "\n",
    "# For Logstict Regression, we set some parameters:\n",
    "# 1. max_iter: The maximum number of iterations that the logic can run for to converge onto the optimum solution\n",
    "# 2. class_weight: Makes the data point's importance be inversely proportional to the frequency with which it's class label occurs.\n",
    "svm = SVC(max_iter=1000, random_state=42, class_weight=\"balanced\")\n",
    "\n",
    "random_search = GridSearchCV(svm, param_dist, cv=2, verbose=True, scoring='f1')\n",
    "random_search.fit(X_train, y_train)"
   ]
  },
  {
   "cell_type": "code",
   "execution_count": null,
   "metadata": {
    "colab": {
     "base_uri": "https://localhost:8080/"
    },
    "id": "h8BhS0c_fmQ6",
    "outputId": "495ac3d0-ca88-4160-f111-62a04712f6b4"
   },
   "outputs": [
    {
     "name": "stdout",
     "output_type": "stream",
     "text": [
      "The model's F1 score is: 0.5122\n",
      "--------------------------------------------------------\n",
      "[[14542   218]\n",
      " [   22   126]]\n",
      "--------------------------------------------------------\n",
      "The best number of n_estimators found is: {'C': 0.001, 'l1_ratio': 0, 'solver': 'lbfgs'}\n"
     ]
    }
   ],
   "source": [
    "# Getting the best estimator\n",
    "best_model = grid.best_estimator_\n",
    "best_model.fit(X_train, y_train)\n",
    "\n",
    "y_pred = best_model.predict(X_test)\n",
    "\n",
    "# Generating the statistics & best parameters\n",
    "print(f\"The model's F1 score is: {f1_score(y_test, y_pred):.4f}\")\n",
    "print(\"--------------------------------------------------------\")\n",
    "print(confusion_matrix(y_test, y_pred))\n",
    "print(\"--------------------------------------------------------\")\n",
    "print(f\"The best number of n_estimators found is: {grid.best_params_}\")"
   ]
  },
  {
   "cell_type": "markdown",
   "metadata": {
    "id": "f5LpRkImeeG2"
   },
   "source": [
    "True Positives (TP): The model correctly identified 126 fraudulent transactions.\n",
    "\n",
    "True Negatives (TN): The model correctly identified 14542 legitimate transactions.\n",
    "\n",
    "False Positives (FP): The model incorrectly labeled 218 legitimate transactions as fraudulent.\n",
    "\n",
    "False Negatives (FN): The model failed to detect 22 fraudulent transactions."
   ]
  },
  {
   "cell_type": "markdown",
   "metadata": {
    "id": "nvzDxdKtPvvJ"
   },
   "source": [
    "Amongst the above different models, the most appropriate model based on the F1 Score is the Random Forest with an F1 score of ~85%. One thing to highlight here is that the model is still having a 99%+ accuracy and so would all these other options have but the missclassification of records is appropriately penalized more in F1 score.\n",
    "\n",
    "We do wish to highlight that while in our investigation we used the F1 score as our scoring mechanism and chose the model based on that, however, choosing another metric might make the choice of best model different. For example, if the bank is concerned about loss prevention, one might think the SVM or Logistic Regression are better options as they have the least false negative rate. On the other hand, if the bank is concerned about not raising false alarms, KNN might be the best one as it has the least false positive rate.\n",
    "\n",
    "For our study, we gave equal weightage to both, and given the skew in the dataset, the appropriate choice of metric was the F1 Score."
   ]
  },
  {
   "cell_type": "markdown",
   "metadata": {
    "id": "APtb-iR3Cwem"
   },
   "source": [
    "## ANN"
   ]
  },
  {
   "cell_type": "markdown",
   "metadata": {
    "id": "9cX1tEjaNdne"
   },
   "source": [
    "Now we will use Artificial Neural Networks (ANN) to enhance our credit card fraud detection capabilities. ANNs are inspired by the biological neural networks that constitute animal brains, and they are particularly effective for pattern recognition tasks due to their ability to learn and model non-linear and complex relationships between inputs and outputs. By using a multi-layered structure of neurons, ANNs can discern subtle patterns in data that might indicate fraudulent activities. We will design and train an ANN model, optimizing its architecture—number of layers, neurons per layer, activation functions, and more—to effectively identify fraudulent transactions amidst our highly unbalanced dataset. This approach aims to leverage the deep learning strengths of ANNs to improve the accuracy and reliability of our fraud detection system."
   ]
  },
  {
   "cell_type": "markdown",
   "metadata": {
    "id": "XaFOpjc0kh0N"
   },
   "source": [
    "ANNs are composed of:\n",
    "\n",
    "Input layer: Where we enter our data.\n",
    "\n",
    "Hidden layers: Intermediate layers where information is processed.\n",
    "\n",
    "Output layer: Where we obtain the prediction or desired result.\n",
    "\n",
    "Weights in Artificial Neural Networks are parameters that determine the strength and direction of connections between neurons. Each connection between neurons has an associated weight that controls the contribution of the input neuron to the output neuron.\n"
   ]
  },
  {
   "cell_type": "markdown",
   "metadata": {
    "id": "RsdyZ_aekpIt"
   },
   "source": [
    "How the process works\n",
    "\n",
    "The ANN works on the data based on the inputs we give it to finally make its predictions in the output layer. These predictions are compared to the actual results based on a cost function, which basically measures the differences between the predictions and the actual values. Once these calculations have finished, the information is sent back to the beginning of the neural network in a process called 'backpropagation' in which the weights of the connections between the neurons are adjusted and the process is carried out again in order to reduce the cost function. This process is performed several times until the cost function is 0 or as small as possible."
   ]
  },
  {
   "cell_type": "markdown",
   "metadata": {
    "id": "xY2OOw15krve"
   },
   "source": [
    "Advantages and Challenges:\n",
    "\n",
    "Advantages: ANNs can learn complex patterns and adapt to new data. They can detect fraud quickly and efficiently.\n",
    "\n",
    "Challenges: Require large amounts of data to train correctly. Additionally, they can be difficult to interpret, which can be a problem in regulatory environments. Deep learning tends to work better with large amounts of data than machine learning models."
   ]
  },
  {
   "cell_type": "markdown",
   "metadata": {
    "id": "yhddYYmOjfas"
   },
   "source": [
    "Activation functions in artificial neural networks (ANNs) serve a crucial role in determining the output of each neuron. They introduce non-linearities to the model, enabling it to learn complex patterns in the data. ReLU (Rectified Linear Unit) is commonly used in hidden layers because it is computationally efficient and helps mitigate the vanishing gradient problem during training. ReLU simply outputs the input if it's positive, otherwise, it outputs zero. On the other hand, the sigmoid function is often employed in the output layer, especially for binary classification tasks like fraud detection, because it squashes the output between 0 and 1, effectively representing probabilities. This makes it suitable for predicting binary outcomes, where values closer to 1 indicate a higher probability of fraud, while values closer to 0 indicate the opposite."
   ]
  },
  {
   "cell_type": "code",
   "execution_count": null,
   "metadata": {
    "colab": {
     "base_uri": "https://localhost:8080/"
    },
    "id": "G94Gu8qMw98Y",
    "outputId": "bac8e152-8608-4115-8ada-109e2bdad78d"
   },
   "outputs": [
    {
     "name": "stdout",
     "output_type": "stream",
     "text": [
      "466/466 [==============================] - 1s 1ms/step\n",
      "F1-score: 0.8551236749116607\n",
      "--------------------------------------------------------\n",
      "[[14746    14]\n",
      " [   27   121]]\n"
     ]
    }
   ],
   "source": [
    "from keras.models import Sequential\n",
    "from keras.layers import Dense\n",
    "from sklearn.metrics import f1_score, confusion_matrix\n",
    "\n",
    "# We will create a ANN with 2 hidden layers (of 6 neurons each) and only one output layer (since this is a binary classification problem)\n",
    "# We selected this model architecture after experimenting with various configurations; this particular setup yielded the most favorable outcomes without overly complicating\n",
    "# the artificial neural network (ANN).\n",
    "ann = Sequential()\n",
    "ann.add(Dense(units=6, activation='relu', input_shape=(X_train.shape[1],)))\n",
    "ann.add(Dense(units=6, activation='relu'))\n",
    "ann.add(Dense(units=1, activation='sigmoid'))\n",
    "\n",
    "# Once we have created the architecture of the neural network, we set the parameters for the logic to be used for solving and our choice of loss function\n",
    "ann.compile(optimizer='adam', loss='binary_crossentropy')\n",
    "\n",
    "# We train the ANN\n",
    "ann.fit(X_train, y_train, batch_size=32, epochs=100, verbose=False)\n",
    "\n",
    "# As the ANN provides a probability of a data point belonging a certain class, we apply a threshold to identify the class\n",
    "threshold = 0.5\n",
    "y_pred_prob = ann.predict(X_test)\n",
    "y_pred = (y_pred_prob > threshold).astype(int)\n",
    "\n",
    "# Generating the statistics\n",
    "print(f\"F1-score: {f1_score(y_test, y_pred)}\")\n",
    "print(\"--------------------------------------------------------\")\n",
    "print(confusion_matrix(y_test, y_pred))"
   ]
  },
  {
   "cell_type": "markdown",
   "metadata": {
    "id": "9kuZHvJsip-j"
   },
   "source": [
    "True Positives (TP): The model correctly identified 121 fraudulent transactions.\n",
    "\n",
    "True Negatives (TN): The model correctly identified 14,746 legitimate transactions.\n",
    "\n",
    "False Positives (FP): The model incorrectly labeled 14 legitimate transactions as fraudulent.\n",
    "\n",
    "False Negatives (FN): The model failed to detect 27 fraudulent transactions."
   ]
  },
  {
   "cell_type": "markdown",
   "metadata": {
    "id": "EuO2YLvN-QzJ"
   },
   "source": [
    "### Oversampling & Finding the Best Model"
   ]
  },
  {
   "cell_type": "markdown",
   "metadata": {
    "id": "xnY4Rv-oNQ54"
   },
   "source": [
    "To address the problem of class imbalance in the target variable of our dataset, we have applied the Synthetic Minority Over-sampling Technique, or SMOTE. This method helps to balance the classes by generating synthetic examples of the minority class. SMOTE works by selecting examples that are close in the feature space, drawing a line between the examples in the feature space, and creating new examples along that line. This approach helps to avoid overfitting that can occur with simple over-sampling and allows the model to learn more robust patterns, improving its performance on new, unseen data. By using SMOTE, we ensure a more balanced dataset, which is crucial for building effective and unbiased machine learning models such as the K-nearest neighbors (KNN) classifier used in this case\n",
    "\n",
    "It's crucial to emphasize that we will be applying this to the original dataset with PCA applied, denoted as 'dataset', rather than to 'df' as the 'dataset' has the true ratio of normal to fraud transactions."
   ]
  },
  {
   "cell_type": "code",
   "execution_count": null,
   "metadata": {
    "colab": {
     "base_uri": "https://localhost:8080/",
     "height": 206
    },
    "id": "Bsi2tst7-QzJ",
    "outputId": "6adf0d6f-fbe4-4cde-924e-dcc9a3aca0e7"
   },
   "outputs": [
    {
     "data": {
      "application/vnd.google.colaboratory.intrinsic+json": {
       "summary": "{\n  \"name\": \"display(balanced_df\",\n  \"rows\": 5,\n  \"fields\": [\n    {\n      \"column\": \"v1\",\n      \"properties\": {\n        \"dtype\": \"number\",\n        \"std\": 1.0867645077639418,\n        \"min\": -1.359807134,\n        \"max\": 1.191857111,\n        \"num_unique_values\": 5,\n        \"samples\": [\n          1.191857111,\n          -1.158233093,\n          -1.358354062\n        ],\n        \"semantic_type\": \"\",\n        \"description\": \"\"\n      }\n    },\n    {\n      \"column\": \"v2\",\n      \"properties\": {\n        \"dtype\": \"number\",\n        \"std\": 0.8117306023053524,\n        \"min\": -1.340163075,\n        \"max\": 0.877736755,\n        \"num_unique_values\": 5,\n        \"samples\": [\n          0.266150712,\n          0.877736755,\n          -1.340163075\n        ],\n        \"semantic_type\": \"\",\n        \"description\": \"\"\n      }\n    },\n    {\n      \"column\": \"v3\",\n      \"properties\": {\n        \"dtype\": \"number\",\n        \"std\": 0.8652974982288497,\n        \"min\": 0.166480113,\n        \"max\": 2.536346738,\n        \"num_unique_values\": 5,\n        \"samples\": [\n          0.166480113,\n          1.548717847,\n          1.773209343\n        ],\n        \"semantic_type\": \"\",\n        \"description\": \"\"\n      }\n    },\n    {\n      \"column\": \"v4\",\n      \"properties\": {\n        \"dtype\": \"number\",\n        \"std\": 0.7972623553109724,\n        \"min\": -0.863291275,\n        \"max\": 1.378155224,\n        \"num_unique_values\": 5,\n        \"samples\": [\n          0.448154078,\n          0.403033934,\n          0.379779593\n        ],\n        \"semantic_type\": \"\",\n        \"description\": \"\"\n      }\n    },\n    {\n      \"column\": \"v5\",\n      \"properties\": {\n        \"dtype\": \"number\",\n        \"std\": 0.24983107195714216,\n        \"min\": -0.503198133,\n        \"max\": 0.060017649,\n        \"num_unique_values\": 5,\n        \"samples\": [\n          0.060017649,\n          -0.407193377,\n          -0.503198133\n        ],\n        \"semantic_type\": \"\",\n        \"description\": \"\"\n      }\n    },\n    {\n      \"column\": \"v6\",\n      \"properties\": {\n        \"dtype\": \"number\",\n        \"std\": 0.7974768342175773,\n        \"min\": -0.082360809,\n        \"max\": 1.800499381,\n        \"num_unique_values\": 5,\n        \"samples\": [\n          -0.082360809,\n          0.095921462,\n          1.800499381\n        ],\n        \"semantic_type\": \"\",\n        \"description\": \"\"\n      }\n    },\n    {\n      \"column\": \"v7\",\n      \"properties\": {\n        \"dtype\": \"number\",\n        \"std\": 0.3399944704039111,\n        \"min\": -0.078802983,\n        \"max\": 0.791460956,\n        \"num_unique_values\": 5,\n        \"samples\": [\n          -0.078802983,\n          0.592940745,\n          0.791460956\n        ],\n        \"semantic_type\": \"\",\n        \"description\": \"\"\n      }\n    },\n    {\n      \"column\": \"v8\",\n      \"properties\": {\n        \"dtype\": \"number\",\n        \"std\": 0.24290036084347344,\n        \"min\": -0.270532677,\n        \"max\": 0.377435875,\n        \"num_unique_values\": 5,\n        \"samples\": [\n          0.085101655,\n          -0.270532677,\n          0.247675787\n        ],\n        \"semantic_type\": \"\",\n        \"description\": \"\"\n      }\n    },\n    {\n      \"column\": \"v9\",\n      \"properties\": {\n        \"dtype\": \"number\",\n        \"std\": 1.0372696030742503,\n        \"min\": -1.514654323,\n        \"max\": 0.817739308,\n        \"num_unique_values\": 5,\n        \"samples\": [\n          -0.255425128,\n          0.817739308,\n          -1.514654323\n        ],\n        \"semantic_type\": \"\",\n        \"description\": \"\"\n      }\n    },\n    {\n      \"column\": \"v10\",\n      \"properties\": {\n        \"dtype\": \"number\",\n        \"std\": 0.35767936453963495,\n        \"min\": -0.166974414,\n        \"max\": 0.753074432,\n        \"num_unique_values\": 5,\n        \"samples\": [\n          -0.166974414,\n          0.753074432,\n          0.207642865\n        ],\n        \"semantic_type\": \"\",\n        \"description\": \"\"\n      }\n    },\n    {\n      \"column\": \"v11\",\n      \"properties\": {\n        \"dtype\": \"number\",\n        \"std\": 0.9927919143263104,\n        \"min\": -0.822842878,\n        \"max\": 1.612726661,\n        \"num_unique_values\": 5,\n        \"samples\": [\n          1.612726661,\n          -0.822842878,\n          0.624501459\n        ],\n        \"semantic_type\": \"\",\n        \"description\": \"\"\n      }\n    },\n    {\n      \"column\": \"v12\",\n      \"properties\": {\n        \"dtype\": \"number\",\n        \"std\": 0.6204110625494474,\n        \"min\": -0.617800856,\n        \"max\": 1.065235311,\n        \"num_unique_values\": 5,\n        \"samples\": [\n          1.065235311,\n          0.53819555,\n          0.066083685\n        ],\n        \"semantic_type\": \"\",\n        \"description\": \"\"\n      }\n    },\n    {\n      \"column\": \"v13\",\n      \"properties\": {\n        \"dtype\": \"number\",\n        \"std\": 0.858761276164712,\n        \"min\": -0.991389847,\n        \"max\": 1.345851593,\n        \"num_unique_values\": 5,\n        \"samples\": [\n          0.489095016,\n          1.345851593,\n          0.717292731\n        ],\n        \"semantic_type\": \"\",\n        \"description\": \"\"\n      }\n    },\n    {\n      \"column\": \"v14\",\n      \"properties\": {\n        \"dtype\": \"number\",\n        \"std\": 0.4057857667706943,\n        \"min\": -1.119669835,\n        \"max\": -0.143772296,\n        \"num_unique_values\": 5,\n        \"samples\": [\n          -0.143772296,\n          -1.119669835,\n          -0.165945923\n        ],\n        \"semantic_type\": \"\",\n        \"description\": \"\"\n      }\n    },\n    {\n      \"column\": \"amount\",\n      \"properties\": {\n        \"dtype\": \"number\",\n        \"std\": 0.568794220574378,\n        \"min\": -0.3424745411051305,\n        \"max\": 1.1606859252297228,\n        \"num_unique_values\": 5,\n        \"samples\": [\n          -0.3424745411051305,\n          -0.07340334025310606,\n          1.1606859252297228\n        ],\n        \"semantic_type\": \"\",\n        \"description\": \"\"\n      }\n    },\n    {\n      \"column\": \"class\",\n      \"properties\": {\n        \"dtype\": \"number\",\n        \"std\": 0,\n        \"min\": 0,\n        \"max\": 0,\n        \"num_unique_values\": 1,\n        \"samples\": [\n          0\n        ],\n        \"semantic_type\": \"\",\n        \"description\": \"\"\n      }\n    }\n  ]\n}",
       "type": "dataframe"
      },
      "text/html": [
       "\n",
       "  <div id=\"df-40b7154b-40ff-47e5-951a-342ec317f1a9\" class=\"colab-df-container\">\n",
       "    <div>\n",
       "<style scoped>\n",
       "    .dataframe tbody tr th:only-of-type {\n",
       "        vertical-align: middle;\n",
       "    }\n",
       "\n",
       "    .dataframe tbody tr th {\n",
       "        vertical-align: top;\n",
       "    }\n",
       "\n",
       "    .dataframe thead th {\n",
       "        text-align: right;\n",
       "    }\n",
       "</style>\n",
       "<table border=\"1\" class=\"dataframe\">\n",
       "  <thead>\n",
       "    <tr style=\"text-align: right;\">\n",
       "      <th></th>\n",
       "      <th>v1</th>\n",
       "      <th>v2</th>\n",
       "      <th>v3</th>\n",
       "      <th>v4</th>\n",
       "      <th>v5</th>\n",
       "      <th>v6</th>\n",
       "      <th>v7</th>\n",
       "      <th>v8</th>\n",
       "      <th>v9</th>\n",
       "      <th>v10</th>\n",
       "      <th>v11</th>\n",
       "      <th>v12</th>\n",
       "      <th>v13</th>\n",
       "      <th>v14</th>\n",
       "      <th>amount</th>\n",
       "      <th>class</th>\n",
       "    </tr>\n",
       "  </thead>\n",
       "  <tbody>\n",
       "    <tr>\n",
       "      <th>0</th>\n",
       "      <td>-1.359807</td>\n",
       "      <td>-0.072781</td>\n",
       "      <td>2.536347</td>\n",
       "      <td>1.378155</td>\n",
       "      <td>-0.338321</td>\n",
       "      <td>0.462388</td>\n",
       "      <td>0.239599</td>\n",
       "      <td>0.098698</td>\n",
       "      <td>0.363787</td>\n",
       "      <td>0.090794</td>\n",
       "      <td>-0.551600</td>\n",
       "      <td>-0.617801</td>\n",
       "      <td>-0.991390</td>\n",
       "      <td>-0.311169</td>\n",
       "      <td>0.244964</td>\n",
       "      <td>0</td>\n",
       "    </tr>\n",
       "    <tr>\n",
       "      <th>1</th>\n",
       "      <td>1.191857</td>\n",
       "      <td>0.266151</td>\n",
       "      <td>0.166480</td>\n",
       "      <td>0.448154</td>\n",
       "      <td>0.060018</td>\n",
       "      <td>-0.082361</td>\n",
       "      <td>-0.078803</td>\n",
       "      <td>0.085102</td>\n",
       "      <td>-0.255425</td>\n",
       "      <td>-0.166974</td>\n",
       "      <td>1.612727</td>\n",
       "      <td>1.065235</td>\n",
       "      <td>0.489095</td>\n",
       "      <td>-0.143772</td>\n",
       "      <td>-0.342475</td>\n",
       "      <td>0</td>\n",
       "    </tr>\n",
       "    <tr>\n",
       "      <th>2</th>\n",
       "      <td>-1.358354</td>\n",
       "      <td>-1.340163</td>\n",
       "      <td>1.773209</td>\n",
       "      <td>0.379780</td>\n",
       "      <td>-0.503198</td>\n",
       "      <td>1.800499</td>\n",
       "      <td>0.791461</td>\n",
       "      <td>0.247676</td>\n",
       "      <td>-1.514654</td>\n",
       "      <td>0.207643</td>\n",
       "      <td>0.624501</td>\n",
       "      <td>0.066084</td>\n",
       "      <td>0.717293</td>\n",
       "      <td>-0.165946</td>\n",
       "      <td>1.160686</td>\n",
       "      <td>0</td>\n",
       "    </tr>\n",
       "    <tr>\n",
       "      <th>3</th>\n",
       "      <td>-0.966272</td>\n",
       "      <td>-0.185226</td>\n",
       "      <td>1.792993</td>\n",
       "      <td>-0.863291</td>\n",
       "      <td>-0.010309</td>\n",
       "      <td>1.247203</td>\n",
       "      <td>0.237609</td>\n",
       "      <td>0.377436</td>\n",
       "      <td>-1.387024</td>\n",
       "      <td>-0.054952</td>\n",
       "      <td>-0.226487</td>\n",
       "      <td>0.178228</td>\n",
       "      <td>0.507757</td>\n",
       "      <td>-0.287924</td>\n",
       "      <td>0.140534</td>\n",
       "      <td>0</td>\n",
       "    </tr>\n",
       "    <tr>\n",
       "      <th>4</th>\n",
       "      <td>-1.158233</td>\n",
       "      <td>0.877737</td>\n",
       "      <td>1.548718</td>\n",
       "      <td>0.403034</td>\n",
       "      <td>-0.407193</td>\n",
       "      <td>0.095921</td>\n",
       "      <td>0.592941</td>\n",
       "      <td>-0.270533</td>\n",
       "      <td>0.817739</td>\n",
       "      <td>0.753074</td>\n",
       "      <td>-0.822843</td>\n",
       "      <td>0.538196</td>\n",
       "      <td>1.345852</td>\n",
       "      <td>-1.119670</td>\n",
       "      <td>-0.073403</td>\n",
       "      <td>0</td>\n",
       "    </tr>\n",
       "  </tbody>\n",
       "</table>\n",
       "</div>\n",
       "    <div class=\"colab-df-buttons\">\n",
       "\n",
       "  <div class=\"colab-df-container\">\n",
       "    <button class=\"colab-df-convert\" onclick=\"convertToInteractive('df-40b7154b-40ff-47e5-951a-342ec317f1a9')\"\n",
       "            title=\"Convert this dataframe to an interactive table.\"\n",
       "            style=\"display:none;\">\n",
       "\n",
       "  <svg xmlns=\"http://www.w3.org/2000/svg\" height=\"24px\" viewBox=\"0 -960 960 960\">\n",
       "    <path d=\"M120-120v-720h720v720H120Zm60-500h600v-160H180v160Zm220 220h160v-160H400v160Zm0 220h160v-160H400v160ZM180-400h160v-160H180v160Zm440 0h160v-160H620v160ZM180-180h160v-160H180v160Zm440 0h160v-160H620v160Z\"/>\n",
       "  </svg>\n",
       "    </button>\n",
       "\n",
       "  <style>\n",
       "    .colab-df-container {\n",
       "      display:flex;\n",
       "      gap: 12px;\n",
       "    }\n",
       "\n",
       "    .colab-df-convert {\n",
       "      background-color: #E8F0FE;\n",
       "      border: none;\n",
       "      border-radius: 50%;\n",
       "      cursor: pointer;\n",
       "      display: none;\n",
       "      fill: #1967D2;\n",
       "      height: 32px;\n",
       "      padding: 0 0 0 0;\n",
       "      width: 32px;\n",
       "    }\n",
       "\n",
       "    .colab-df-convert:hover {\n",
       "      background-color: #E2EBFA;\n",
       "      box-shadow: 0px 1px 2px rgba(60, 64, 67, 0.3), 0px 1px 3px 1px rgba(60, 64, 67, 0.15);\n",
       "      fill: #174EA6;\n",
       "    }\n",
       "\n",
       "    .colab-df-buttons div {\n",
       "      margin-bottom: 4px;\n",
       "    }\n",
       "\n",
       "    [theme=dark] .colab-df-convert {\n",
       "      background-color: #3B4455;\n",
       "      fill: #D2E3FC;\n",
       "    }\n",
       "\n",
       "    [theme=dark] .colab-df-convert:hover {\n",
       "      background-color: #434B5C;\n",
       "      box-shadow: 0px 1px 3px 1px rgba(0, 0, 0, 0.15);\n",
       "      filter: drop-shadow(0px 1px 2px rgba(0, 0, 0, 0.3));\n",
       "      fill: #FFFFFF;\n",
       "    }\n",
       "  </style>\n",
       "\n",
       "    <script>\n",
       "      const buttonEl =\n",
       "        document.querySelector('#df-40b7154b-40ff-47e5-951a-342ec317f1a9 button.colab-df-convert');\n",
       "      buttonEl.style.display =\n",
       "        google.colab.kernel.accessAllowed ? 'block' : 'none';\n",
       "\n",
       "      async function convertToInteractive(key) {\n",
       "        const element = document.querySelector('#df-40b7154b-40ff-47e5-951a-342ec317f1a9');\n",
       "        const dataTable =\n",
       "          await google.colab.kernel.invokeFunction('convertToInteractive',\n",
       "                                                    [key], {});\n",
       "        if (!dataTable) return;\n",
       "\n",
       "        const docLinkHtml = 'Like what you see? Visit the ' +\n",
       "          '<a target=\"_blank\" href=https://colab.research.google.com/notebooks/data_table.ipynb>data table notebook</a>'\n",
       "          + ' to learn more about interactive tables.';\n",
       "        element.innerHTML = '';\n",
       "        dataTable['output_type'] = 'display_data';\n",
       "        await google.colab.output.renderOutput(dataTable, element);\n",
       "        const docLink = document.createElement('div');\n",
       "        docLink.innerHTML = docLinkHtml;\n",
       "        element.appendChild(docLink);\n",
       "      }\n",
       "    </script>\n",
       "  </div>\n",
       "\n",
       "\n",
       "<div id=\"df-e55e4f86-55fc-4644-a5d4-7873ed0ff1f9\">\n",
       "  <button class=\"colab-df-quickchart\" onclick=\"quickchart('df-e55e4f86-55fc-4644-a5d4-7873ed0ff1f9')\"\n",
       "            title=\"Suggest charts\"\n",
       "            style=\"display:none;\">\n",
       "\n",
       "<svg xmlns=\"http://www.w3.org/2000/svg\" height=\"24px\"viewBox=\"0 0 24 24\"\n",
       "     width=\"24px\">\n",
       "    <g>\n",
       "        <path d=\"M19 3H5c-1.1 0-2 .9-2 2v14c0 1.1.9 2 2 2h14c1.1 0 2-.9 2-2V5c0-1.1-.9-2-2-2zM9 17H7v-7h2v7zm4 0h-2V7h2v10zm4 0h-2v-4h2v4z\"/>\n",
       "    </g>\n",
       "</svg>\n",
       "  </button>\n",
       "\n",
       "<style>\n",
       "  .colab-df-quickchart {\n",
       "      --bg-color: #E8F0FE;\n",
       "      --fill-color: #1967D2;\n",
       "      --hover-bg-color: #E2EBFA;\n",
       "      --hover-fill-color: #174EA6;\n",
       "      --disabled-fill-color: #AAA;\n",
       "      --disabled-bg-color: #DDD;\n",
       "  }\n",
       "\n",
       "  [theme=dark] .colab-df-quickchart {\n",
       "      --bg-color: #3B4455;\n",
       "      --fill-color: #D2E3FC;\n",
       "      --hover-bg-color: #434B5C;\n",
       "      --hover-fill-color: #FFFFFF;\n",
       "      --disabled-bg-color: #3B4455;\n",
       "      --disabled-fill-color: #666;\n",
       "  }\n",
       "\n",
       "  .colab-df-quickchart {\n",
       "    background-color: var(--bg-color);\n",
       "    border: none;\n",
       "    border-radius: 50%;\n",
       "    cursor: pointer;\n",
       "    display: none;\n",
       "    fill: var(--fill-color);\n",
       "    height: 32px;\n",
       "    padding: 0;\n",
       "    width: 32px;\n",
       "  }\n",
       "\n",
       "  .colab-df-quickchart:hover {\n",
       "    background-color: var(--hover-bg-color);\n",
       "    box-shadow: 0 1px 2px rgba(60, 64, 67, 0.3), 0 1px 3px 1px rgba(60, 64, 67, 0.15);\n",
       "    fill: var(--button-hover-fill-color);\n",
       "  }\n",
       "\n",
       "  .colab-df-quickchart-complete:disabled,\n",
       "  .colab-df-quickchart-complete:disabled:hover {\n",
       "    background-color: var(--disabled-bg-color);\n",
       "    fill: var(--disabled-fill-color);\n",
       "    box-shadow: none;\n",
       "  }\n",
       "\n",
       "  .colab-df-spinner {\n",
       "    border: 2px solid var(--fill-color);\n",
       "    border-color: transparent;\n",
       "    border-bottom-color: var(--fill-color);\n",
       "    animation:\n",
       "      spin 1s steps(1) infinite;\n",
       "  }\n",
       "\n",
       "  @keyframes spin {\n",
       "    0% {\n",
       "      border-color: transparent;\n",
       "      border-bottom-color: var(--fill-color);\n",
       "      border-left-color: var(--fill-color);\n",
       "    }\n",
       "    20% {\n",
       "      border-color: transparent;\n",
       "      border-left-color: var(--fill-color);\n",
       "      border-top-color: var(--fill-color);\n",
       "    }\n",
       "    30% {\n",
       "      border-color: transparent;\n",
       "      border-left-color: var(--fill-color);\n",
       "      border-top-color: var(--fill-color);\n",
       "      border-right-color: var(--fill-color);\n",
       "    }\n",
       "    40% {\n",
       "      border-color: transparent;\n",
       "      border-right-color: var(--fill-color);\n",
       "      border-top-color: var(--fill-color);\n",
       "    }\n",
       "    60% {\n",
       "      border-color: transparent;\n",
       "      border-right-color: var(--fill-color);\n",
       "    }\n",
       "    80% {\n",
       "      border-color: transparent;\n",
       "      border-right-color: var(--fill-color);\n",
       "      border-bottom-color: var(--fill-color);\n",
       "    }\n",
       "    90% {\n",
       "      border-color: transparent;\n",
       "      border-bottom-color: var(--fill-color);\n",
       "    }\n",
       "  }\n",
       "</style>\n",
       "\n",
       "  <script>\n",
       "    async function quickchart(key) {\n",
       "      const quickchartButtonEl =\n",
       "        document.querySelector('#' + key + ' button');\n",
       "      quickchartButtonEl.disabled = true;  // To prevent multiple clicks.\n",
       "      quickchartButtonEl.classList.add('colab-df-spinner');\n",
       "      try {\n",
       "        const charts = await google.colab.kernel.invokeFunction(\n",
       "            'suggestCharts', [key], {});\n",
       "      } catch (error) {\n",
       "        console.error('Error during call to suggestCharts:', error);\n",
       "      }\n",
       "      quickchartButtonEl.classList.remove('colab-df-spinner');\n",
       "      quickchartButtonEl.classList.add('colab-df-quickchart-complete');\n",
       "    }\n",
       "    (() => {\n",
       "      let quickchartButtonEl =\n",
       "        document.querySelector('#df-e55e4f86-55fc-4644-a5d4-7873ed0ff1f9 button');\n",
       "      quickchartButtonEl.style.display =\n",
       "        google.colab.kernel.accessAllowed ? 'block' : 'none';\n",
       "    })();\n",
       "  </script>\n",
       "</div>\n",
       "\n",
       "    </div>\n",
       "  </div>\n"
      ],
      "text/plain": [
       "         v1        v2        v3        v4        v5        v6        v7  \\\n",
       "0 -1.359807 -0.072781  2.536347  1.378155 -0.338321  0.462388  0.239599   \n",
       "1  1.191857  0.266151  0.166480  0.448154  0.060018 -0.082361 -0.078803   \n",
       "2 -1.358354 -1.340163  1.773209  0.379780 -0.503198  1.800499  0.791461   \n",
       "3 -0.966272 -0.185226  1.792993 -0.863291 -0.010309  1.247203  0.237609   \n",
       "4 -1.158233  0.877737  1.548718  0.403034 -0.407193  0.095921  0.592941   \n",
       "\n",
       "         v8        v9       v10       v11       v12       v13       v14  \\\n",
       "0  0.098698  0.363787  0.090794 -0.551600 -0.617801 -0.991390 -0.311169   \n",
       "1  0.085102 -0.255425 -0.166974  1.612727  1.065235  0.489095 -0.143772   \n",
       "2  0.247676 -1.514654  0.207643  0.624501  0.066084  0.717293 -0.165946   \n",
       "3  0.377436 -1.387024 -0.054952 -0.226487  0.178228  0.507757 -0.287924   \n",
       "4 -0.270533  0.817739  0.753074 -0.822843  0.538196  1.345852 -1.119670   \n",
       "\n",
       "     amount  class  \n",
       "0  0.244964      0  \n",
       "1 -0.342475      0  \n",
       "2  1.160686      0  \n",
       "3  0.140534      0  \n",
       "4 -0.073403      0  "
      ]
     },
     "metadata": {},
     "output_type": "display_data"
    }
   ],
   "source": [
    "from imblearn.over_sampling import SMOTE\n",
    "\n",
    "# Splitting the dataset into features and labels\n",
    "X, y = dataset.drop(columns=['class']), dataset['class']\n",
    "\n",
    "# Applying SMOTE to resample the minority class\n",
    "smote = SMOTE(sampling_strategy='auto', random_state=42)\n",
    "X_resampled, y_resampled = smote.fit_resample(X, y)\n",
    "\n",
    "# Creating a dataframe with balanced class labels\n",
    "balanced_df = pd.concat([pd.DataFrame(X_resampled), pd.DataFrame(y_resampled, columns=['class'])], axis=1)\n",
    "\n",
    "# Splitting into Training & Testing - Using 70% for training and 30% for testing\n",
    "X, y = balanced_df.drop(columns=['class']), balanced_df['class']\n",
    "X_train, X_test, y_train, y_test = train_test_split(X, y, test_size=0.3, stratify=y, random_state=42)\n",
    "\n",
    "display(balanced_df.head())"
   ]
  },
  {
   "cell_type": "code",
   "execution_count": null,
   "metadata": {
    "colab": {
     "base_uri": "https://localhost:8080/"
    },
    "id": "TRdhspC9f5FV",
    "outputId": "ea2d6f67-aaf0-42d5-c111-9bcd1fa470d9"
   },
   "outputs": [
    {
     "name": "stdout",
     "output_type": "stream",
     "text": [
      "(568630, 16)\n",
      "class\n",
      "0    284315\n",
      "1    284315\n",
      "Name: count, dtype: int64\n"
     ]
    }
   ],
   "source": [
    "# Demonstrating the elimination of skew within our dataset\n",
    "print(balanced_df.shape)\n",
    "print(balanced_df['class'].value_counts())"
   ]
  },
  {
   "cell_type": "markdown",
   "metadata": {
    "id": "db1JLyrPf_F4"
   },
   "source": [
    "As observed here, SMOTE ensures that both fraudulent and non-fraudulent transactions maintain equal proportions. Let's test this new balanced dataset against the best model from our investigation of 4 models and our deep learning model, ANN."
   ]
  },
  {
   "cell_type": "markdown",
   "metadata": {
    "id": "0m7cxYeXfNeh"
   },
   "source": [
    "## Random Forest with SMOTE"
   ]
  },
  {
   "cell_type": "markdown",
   "metadata": {
    "id": "xbYk6V_DQM9m"
   },
   "source": [
    "Since Random Forest proved to be our best model, we will apply this technique to improve it."
   ]
  },
  {
   "cell_type": "code",
   "execution_count": null,
   "metadata": {
    "colab": {
     "base_uri": "https://localhost:8080/"
    },
    "id": "wDE3bLHOfPYm",
    "outputId": "fb3b8e4b-1601-4cb9-8b56-4682f303dd10"
   },
   "outputs": [
    {
     "name": "stdout",
     "output_type": "stream",
     "text": [
      "The model's F1 score is: 0.9755\n",
      "--------------------------------------------------------\n",
      "[[84959   336]\n",
      " [ 3767 81527]]\n",
      "--------------------------------------------------------\n",
      "Model parameters set to: criterion=entropy, max_depth=8\n"
     ]
    }
   ],
   "source": [
    "from sklearn.ensemble import RandomForestClassifier\n",
    "from sklearn.metrics import f1_score, confusion_matrix\n",
    "\n",
    "# With SMOTE, we might just want to use the default hyperparameters for those we set static\n",
    "# With the elimination of skew using SMOTE, we are able to eliminate any causes for overfitting arising from skew in the dataset\n",
    "best_model = RandomForestClassifier(criterion='entropy', max_depth=8)\n",
    "\n",
    "best_model.fit(X_train, y_train)\n",
    "\n",
    "# Getting the best estimator\n",
    "best_model.fit(X_train, y_train)\n",
    "y_pred = best_model.predict(X_test)\n",
    "\n",
    "# Generating the statistics & best parameters\n",
    "print(f\"The model's F1 score is: {f1_score(y_test, y_pred):.4f}\")\n",
    "print(\"--------------------------------------------------------\")\n",
    "print(confusion_matrix(y_test, y_pred))\n",
    "print(\"--------------------------------------------------------\")\n",
    "print(f\"Model parameters set to: criterion=entropy, max_depth=8\")"
   ]
  },
  {
   "cell_type": "markdown",
   "metadata": {
    "id": "rkL6a7E0gD0a"
   },
   "source": [
    "True Positives (TP): The model correctly identified 84,959 fraudulent transactions.\n",
    "\n",
    "True Negatives (TN): The model correctly identified 81,527 legitimate transactions.\n",
    "\n",
    "False Positives (FP): The model incorrectly labeled 336 legitimate transactions as fraudulent.\n",
    "\n",
    "False Negatives (FN): The model failed to detect 3767 fraudulent transactions, meaning it caught every single fraud instance."
   ]
  },
  {
   "cell_type": "markdown",
   "metadata": {
    "id": "9qGQHxC-QMOL"
   },
   "source": [
    "## ANN with SMOTE"
   ]
  },
  {
   "cell_type": "code",
   "execution_count": null,
   "metadata": {
    "colab": {
     "base_uri": "https://localhost:8080/"
    },
    "id": "cBR0er7Syc5Q",
    "outputId": "2f6b08ad-a4c4-4efc-90fc-560111265763"
   },
   "outputs": [
    {
     "name": "stdout",
     "output_type": "stream",
     "text": [
      "5331/5331 [==============================] - 6s 1ms/step\n",
      "F1-score: 0.9842786092749821\n",
      "--------------------------------------------------------\n",
      "[[83078  2217]\n",
      " [  492 84802]]\n"
     ]
    }
   ],
   "source": [
    "from keras.models import Sequential\n",
    "from keras.layers import Dense\n",
    "from sklearn.metrics import f1_score, confusion_matrix\n",
    "\n",
    "# We will create a ANN with 2 hidden layers (of 6 neurons each) and only one output layer (since this is a binary classification problem)\n",
    "ann = Sequential()\n",
    "ann.add(Dense(units=6, activation='relu', input_shape=(X_train.shape[1],)))\n",
    "ann.add(Dense(units=6, activation='relu'))\n",
    "ann.add(Dense(units=1, activation='sigmoid'))\n",
    "\n",
    "# Once we have created the architecture of the neural network, we set the parameters for the logic to be used for solving and our choice of loss function\n",
    "ann.compile(optimizer='adam', loss='binary_crossentropy')\n",
    "\n",
    "# We train the ANN\n",
    "ann.fit(X_train, y_train, batch_size=32, epochs=100, verbose=False)\n",
    "\n",
    "# As the ANN provides a probability of a data point belonging a certain class, we apply a threshold to identify the class\n",
    "threshold = 0.5\n",
    "y_pred_prob = ann.predict(X_test)\n",
    "y_pred = (y_pred_prob > threshold).astype(int)\n",
    "\n",
    "# Generating the statistics\n",
    "print(f\"F1-score: {f1_score(y_test, y_pred)}\")\n",
    "print(\"--------------------------------------------------------\")\n",
    "print(confusion_matrix(y_test, y_pred))"
   ]
  },
  {
   "cell_type": "markdown",
   "metadata": {
    "id": "lHiEjeOpmaNG"
   },
   "source": [
    "True Positives (TP): The model correctly identified 83,078 fraudulent transactions.\n",
    "\n",
    "True Negatives (TN): The model correctly identified 84,802 legitimate transactions.\n",
    "\n",
    "False Positives (FP): The model incorrectly labeled 492 legitimate transactions as fraudulent.\n",
    "\n",
    "False Negatives (FN): The model failed to detect 2217 fraudulent transactions, meaning it caught every single fraud instance."
   ]
  },
  {
   "cell_type": "markdown",
   "metadata": {
    "id": "Xpl_frCiiw8I"
   },
   "source": [
    "## Conclusion"
   ]
  },
  {
   "cell_type": "markdown",
   "metadata": {
    "id": "qMOKOmosiyOO"
   },
   "source": [
    "In our project, we've leveraged various machine learning models alongside a deep learning architecture (Artificial Neural Network, ANN). Upon analyzing the results, we found that the most effective machine learning model was Random Forest, boasting an impressive F1 score of 85.02%. Comparatively, the ANN achieved an F1 score of 85.51%, positioning at the same level of Random Forest. As we can see, deep learning models tend to perform better than machine learning models if they are fed with the correct amount of data, but Random Forest still achieved almost the same performance."
   ]
  },
  {
   "cell_type": "markdown",
   "metadata": {
    "id": "bTrFS-xBQtFa"
   },
   "source": [
    "Our final recommendation is that for fraud detection, the best models to use are ANN and Random Forest. In cases where we have extensive data available, we recommend using ANN, as deep learning models tend to yield better results than machine learning models in these scenarios. However, in cases where data availability is limited, we recommend utilizing machine learning models, particularly Random Forest or KNN, as they have shown to deliver superior results. Additionally, Random Forest, being a tree-based ensemble method, it might provide better interpretability while explaining what features are important which the ANN wouldn't be able to explain."
   ]
  },
  {
   "cell_type": "markdown",
   "metadata": {
    "id": "s8SwzVqe4tbi"
   },
   "source": [
    "# RNN"
   ]
  },
  {
   "cell_type": "markdown",
   "metadata": {
    "id": "3bpqREvD7iF9"
   },
   "source": [
    "In this analysis, we embark on constructing a robust predictive tool for the NASDAQ, utilizing historical data from the past five years. Our objective is to not only capture the intricacies of NASDAQ trends but also to project them into the future, specifically targeting price trends for March 2024.\n",
    "\n",
    "To accomplish this, we employ a Recurrent Neural Network (RNN), a deep learning architecture that excels in modeling sequences and temporal patterns in time-series data such as stock market trends. More specifically, we utilize Long Short-Term Memory (LSTM) units within our RNN. LSTMs are designed to effectively handle long-term dependencies in sequential data, making them particularly suited for our purposes.\n",
    "\n",
    "The choice of LSTMs over traditional models like ARIMA is motivated by their ability to capture non-linear relationships and adapt to complex patterns in data, which are essential qualities for modeling the dynamics of the stock market. By feeding the RNN a sequence of historical price data, including the closing prices and trading volumes, the network learns to discern temporal patterns that influence market behavior.\n",
    "\n",
    "Throughout the training phase, the RNN adjusts its internal parameters to minimize the discrepancy between its predictions and the actual stock prices observed in the dataset. This optimization is achieved using algorithms such as gradient descent, focusing specifically on the closing price of the NASDAQ index over the last five years.\n",
    "\n",
    "Our approach aims not only to forecast the overall direction of the NASDAQ for the upcoming month but also to enhance our understanding of how neural networks can be effectively applied to financial time series forecasting. This deep analysis of NASDAQ trends allows us to grasp the complex underlying interactions and subtle changes that might be easily overlooked by simpler analytical methods, thereby providing a more comprehensive prediction of future market behavior."
   ]
  },
  {
   "cell_type": "markdown",
   "metadata": {
    "id": "fpk4mHDY7-CJ"
   },
   "source": [
    "For extract the data, we will use the yahoo finance API for training the RNN"
   ]
  },
  {
   "cell_type": "code",
   "execution_count": null,
   "metadata": {
    "colab": {
     "base_uri": "https://localhost:8080/"
    },
    "id": "O3M-Lf-EbyRQ",
    "outputId": "400365e5-46d3-4dba-b4ba-055a461ae0a1"
   },
   "outputs": [
    {
     "name": "stdout",
     "output_type": "stream",
     "text": [
      "Date\n",
      "2019-01-02 00:00:00-05:00    6665.939941\n",
      "2019-01-03 00:00:00-05:00    6463.500000\n",
      "2019-01-04 00:00:00-05:00    6738.859863\n",
      "2019-01-07 00:00:00-05:00    6823.470215\n",
      "2019-01-08 00:00:00-05:00    6897.000000\n",
      "Name: Close, dtype: float64\n",
      "Date\n",
      "2024-02-22 00:00:00-05:00    16041.620117\n",
      "2024-02-23 00:00:00-05:00    15996.820312\n",
      "2024-02-26 00:00:00-05:00    15976.250000\n",
      "2024-02-27 00:00:00-05:00    16035.299805\n",
      "2024-02-28 00:00:00-05:00    15947.740234\n",
      "Name: Close, dtype: float64\n"
     ]
    }
   ],
   "source": [
    "# Import the data for trainig the model\n",
    "import yfinance as yf\n",
    "\n",
    "# Setting the ticker value for whom the data needs to be scrapped\n",
    "nasdaq_ticker = \"^IXIC\"\n",
    "nasdaq = yf.Ticker(nasdaq_ticker)\n",
    "\n",
    "# Setting the interval\n",
    "start_date, end_date = \"2019-01-01\", \"2024-02-29\"\n",
    "\n",
    "# Extracting data for this interval from Yahoo Finance regarding the closing price\n",
    "close_prices = nasdaq.history(start=start_date, end=end_date)['Close']\n",
    "print(close_prices.head())\n",
    "print(close_prices.tail())"
   ]
  },
  {
   "cell_type": "markdown",
   "metadata": {
    "id": "Zg2HHor5fp1S"
   },
   "source": [
    "Here we can see the index evolution from the last 5 years"
   ]
  },
  {
   "cell_type": "code",
   "execution_count": null,
   "metadata": {
    "colab": {
     "base_uri": "https://localhost:8080/",
     "height": 707
    },
    "id": "J3_nc2g58k-y",
    "outputId": "8134e5d8-1b6f-459f-da14-a9a3dad38e1d"
   },
   "outputs": [
    {
     "data": {
      "image/png": "[encoded data removed]",
      "text/plain": [
       "<Figure size 1800x700 with 1 Axes>"
      ]
     },
     "metadata": {},
     "output_type": "display_data"
    }
   ],
   "source": [
    "# Plotting the closing price over time\n",
    "plt.figure(figsize=(18,7))\n",
    "close_prices.plot()\n",
    "plt.title(\"Nasdaq Evolution\")\n",
    "plt.ylabel(\"Close Price\")\n",
    "plt.grid(True)\n",
    "plt.tight_layout()"
   ]
  },
  {
   "cell_type": "code",
   "execution_count": null,
   "metadata": {
    "id": "WZFup7pFADAS"
   },
   "outputs": [],
   "source": [
    "# Training set\n",
    "# We will transform the training data to numpy array\n",
    "training_set = close_prices.reset_index().iloc[:,1:2].values"
   ]
  },
  {
   "cell_type": "markdown",
   "metadata": {
    "id": "Tkebt7SlBykx"
   },
   "source": [
    "## Feature Scaling"
   ]
  },
  {
   "cell_type": "markdown",
   "metadata": {
    "id": "J3n1Yk0qfiPQ"
   },
   "source": [
    "To increase the performance of a neural network, it is important to scale the data"
   ]
  },
  {
   "cell_type": "code",
   "execution_count": null,
   "metadata": {
    "id": "G48-b9ZUB0JM"
   },
   "outputs": [],
   "source": [
    "# For getting better results, we have to scale the data\n",
    "from sklearn.preprocessing import MinMaxScaler\n",
    "sc = MinMaxScaler(feature_range = (0, 1))\n",
    "training_set_scaled = sc.fit_transform(training_set)"
   ]
  },
  {
   "cell_type": "code",
   "execution_count": null,
   "metadata": {
    "colab": {
     "base_uri": "https://localhost:8080/"
    },
    "id": "hpWVAjE-F_Ky",
    "outputId": "3a4152f1-0e1d-49db-a310-b59f74fb50c3"
   },
   "outputs": [
    {
     "data": {
      "text/plain": [
       "(1298, 1)"
      ]
     },
     "execution_count": 29,
     "metadata": {},
     "output_type": "execute_result"
    }
   ],
   "source": [
    "training_set_scaled.shape"
   ]
  },
  {
   "cell_type": "markdown",
   "metadata": {
    "id": "aGU5qU7wGF8Q"
   },
   "source": [
    "## Now we will create a data structure with 60 timesteps and 1 output"
   ]
  },
  {
   "cell_type": "markdown",
   "metadata": {
    "id": "srI125fLGpeW"
   },
   "source": [
    "- This is the most important step when building a RNN\n",
    "- This structure specifies what the RNN must remember to predict the next stock price.\n",
    "- An incorrect number of timestep can lead to underfitting or overfitting\n",
    "- There is no a correct number, so we are going to test with 60"
   ]
  },
  {
   "cell_type": "markdown",
   "metadata": {
    "id": "SZ424yRVH7SW"
   },
   "source": [
    "What does a 60 timestep means?\n",
    "\n",
    "It means that at each time t the RNN will observe 60 stock prices before that time t (that is, 60 days before t and t), and based on the trend it captures between these 60 days, it will try to predict the next output (which would be the following day)\n",
    "\n",
    "60 timesteps is the past information that the RNN will use to learn, and based on that it will try to predict the next output"
   ]
  },
  {
   "cell_type": "code",
   "execution_count": null,
   "metadata": {
    "id": "5HCDfvwsIXuV"
   },
   "outputs": [],
   "source": [
    "# X_train will have the 60 previous days to that \"t\" day\n",
    "# y_train will have the next day price to that \"t\" day\n",
    "X_train = []\n",
    "y_train = []\n",
    "for i in range(60, training_set_scaled.shape[0]):\n",
    "    X_train.append(training_set_scaled[i-60:i, 0]) # Here I am taking the values from i minus 60, up to i. In the first example I take from day 0 to 60 (actually it is 59 due to the Python language)\n",
    "    y_train.append(training_set_scaled[i, 0]) # Day i\n",
    "\n",
    "X_train, y_train = np.array(X_train), np.array(y_train) # Here we convert to numpy array\n",
    "# Basically what you are doing here is that for x_train you add 0 to 59 and for y_train the value 60, and so on for the rest"
   ]
  },
  {
   "cell_type": "markdown",
   "metadata": {
    "id": "_H629g0EPZ3u"
   },
   "source": [
    "## Reshaping"
   ]
  },
  {
   "cell_type": "markdown",
   "metadata": {
    "id": "XcVIWH-sPbl6"
   },
   "source": [
    "- Here we are going to add more dimensions to the structure we already have (X_train)\n",
    "- This dimension that we are going to add is unity (the number of predictors that we can use to predict what we want to predict, which in this case is the price of the stock at time t+1)\n",
    "- In this problem, the predictors are indicators. For now we have a single indicator which is the closing price (the one we have been using), in which we take the 60 prices to predict the next\n",
    "- Thanks to this new dimension that we are going to add to our structure, we will be able to add more indicators if we believe that it can help even more to predict what we want (for now we will only use the close price)"
   ]
  },
  {
   "cell_type": "code",
   "execution_count": null,
   "metadata": {
    "id": "ayJBjd4YQLwi"
   },
   "outputs": [],
   "source": [
    "# For now X_train only has 2 dimensions\n",
    "X_train = np.reshape(X_train, # this is what we want to reshape\n",
    "                     (X_train.shape[0],X_train.shape[1],\n",
    "                      1)) # This is the new shape we want our numpy array to have. It has 3 arguments: No. of observations, No. of timesteps, and the No. of indicators that we will have (in our case it is 1, which is the close price)"
   ]
  },
  {
   "cell_type": "markdown",
   "metadata": {
    "id": "0OqFwk3iRKp4"
   },
   "source": [
    "Now we have a numpy array with 3 dimensions\n",
    "\n",
    "The first one is the number of stock prices\n",
    "\n",
    "The second is the number of timesteps (60 in our case)\n",
    "\n",
    "The third is the number of indicators (in our case is 1, the closing price)"
   ]
  },
  {
   "cell_type": "code",
   "execution_count": null,
   "metadata": {
    "colab": {
     "base_uri": "https://localhost:8080/"
    },
    "id": "H1aoWa6aRhOE",
    "outputId": "326d4eed-e7ea-4714-d878-73ba526179a0"
   },
   "outputs": [
    {
     "data": {
      "text/plain": [
       "(1238, 60, 1)"
      ]
     },
     "execution_count": 32,
     "metadata": {},
     "output_type": "execute_result"
    }
   ],
   "source": [
    "X_train.shape"
   ]
  },
  {
   "cell_type": "markdown",
   "metadata": {
    "id": "HQBAUbrNRpwn"
   },
   "source": [
    "## Building and training the RNN"
   ]
  },
  {
   "cell_type": "code",
   "execution_count": null,
   "metadata": {
    "id": "kRag9BM5RtC3"
   },
   "outputs": [],
   "source": [
    "from keras.models import Sequential\n",
    "from keras.layers import Dense\n",
    "from keras.layers import LSTM\n",
    "from keras.layers import Dropout"
   ]
  },
  {
   "cell_type": "markdown",
   "metadata": {
    "id": "Iuw8prt_R3FQ"
   },
   "source": [
    "### Initialising the RNN"
   ]
  },
  {
   "cell_type": "code",
   "execution_count": null,
   "metadata": {
    "id": "2OdYho_ZR9Xf"
   },
   "outputs": [],
   "source": [
    "regressor = Sequential()"
   ]
  },
  {
   "cell_type": "markdown",
   "metadata": {
    "id": "f3wqMlTIhM8G"
   },
   "source": [
    "### Now we are going to ass the first LSTM layer and Dropout regularization"
   ]
  },
  {
   "cell_type": "code",
   "execution_count": null,
   "metadata": {
    "id": "AbWuGYv8U1Kr"
   },
   "outputs": [],
   "source": [
    "regressor.add(LSTM(units = 50, # number of neurons in LSTM\n",
    "                   return_sequences = True,\n",
    "                   input_shape = (X_train.shape[1], 1))) # Las two dimensions\n",
    "\n",
    "regressor.add(Dropout(0.2)) # This is to avoid Overfitting. 0.2 is to remove 20% of the neurons in the layer. This is a commonly used number. 20% of the neurons will be ignored in training (forward and back propagation)"
   ]
  },
  {
   "cell_type": "markdown",
   "metadata": {
    "id": "PbxKv9jJVNrQ"
   },
   "source": [
    "### Now we are going to add a second LSTM layer and Dropout regularization"
   ]
  },
  {
   "cell_type": "code",
   "execution_count": null,
   "metadata": {
    "id": "irnI-FqgVUsO"
   },
   "outputs": [],
   "source": [
    "regressor.add(LSTM(units = 50, return_sequences = True))\n",
    "regressor.add(Dropout(0.2))"
   ]
  },
  {
   "cell_type": "markdown",
   "metadata": {
    "id": "fJeeC2D-VXZ1"
   },
   "source": [
    "### Third Layer"
   ]
  },
  {
   "cell_type": "code",
   "execution_count": null,
   "metadata": {
    "id": "NDYhEq_VVY3I"
   },
   "outputs": [],
   "source": [
    "regressor.add(LSTM(units = 50, return_sequences = True))\n",
    "regressor.add(Dropout(0.2))"
   ]
  },
  {
   "cell_type": "markdown",
   "metadata": {
    "id": "KOT7Cd6FVbbX"
   },
   "source": [
    "### Fourth Layer"
   ]
  },
  {
   "cell_type": "code",
   "execution_count": null,
   "metadata": {
    "id": "hCMyIdhRVc_0"
   },
   "outputs": [],
   "source": [
    "regressor.add(LSTM(units = 50))\n",
    "regressor.add(Dropout(0.2))"
   ]
  },
  {
   "cell_type": "markdown",
   "metadata": {
    "id": "2ztvAHL1VhUH"
   },
   "source": [
    "### Output Layer"
   ]
  },
  {
   "cell_type": "code",
   "execution_count": null,
   "metadata": {
    "id": "oWfouTVSVi_3"
   },
   "outputs": [],
   "source": [
    "# Since we are predicting the price, we need only one output layer\n",
    "regressor.add(Dense(units = 1))"
   ]
  },
  {
   "cell_type": "markdown",
   "metadata": {
    "id": "Izo96E0PVwoo"
   },
   "source": [
    "### Compiling the RNN"
   ]
  },
  {
   "cell_type": "code",
   "execution_count": null,
   "metadata": {
    "id": "U16SbZ8MVyoV"
   },
   "outputs": [],
   "source": [
    "regressor.compile(optimizer = 'adam',\n",
    "                  loss = 'mean_squared_error')"
   ]
  },
  {
   "cell_type": "markdown",
   "metadata": {
    "id": "21HQrubIV2rt"
   },
   "source": [
    "### Fitting the RNN to the training set"
   ]
  },
  {
   "cell_type": "code",
   "execution_count": null,
   "metadata": {
    "colab": {
     "base_uri": "https://localhost:8080/"
    },
    "id": "Q1iE8OjsV5ug",
    "outputId": "e50518e8-0dc1-418c-e755-ff63932b2b53"
   },
   "outputs": [
    {
     "name": "stdout",
     "output_type": "stream",
     "text": [
      "Epoch 1/100\n",
      "39/39 [==============================] - 10s 84ms/step - loss: 0.0493\n",
      "Epoch 2/100\n",
      "39/39 [==============================] - 3s 85ms/step - loss: 0.0082\n",
      "Epoch 3/100\n",
      "39/39 [==============================] - 3s 88ms/step - loss: 0.0082\n",
      "Epoch 4/100\n",
      "39/39 [==============================] - 3s 84ms/step - loss: 0.0069\n",
      "Epoch 5/100\n",
      "39/39 [==============================] - 3s 84ms/step - loss: 0.0067\n",
      "Epoch 6/100\n",
      "39/39 [==============================] - 3s 87ms/step - loss: 0.0065\n",
      "Epoch 7/100\n",
      "39/39 [==============================] - 3s 86ms/step - loss: 0.0059\n",
      "Epoch 8/100\n",
      "39/39 [==============================] - 3s 84ms/step - loss: 0.0061\n",
      "Epoch 9/100\n",
      "39/39 [==============================] - 3s 84ms/step - loss: 0.0055\n",
      "Epoch 10/100\n",
      "39/39 [==============================] - 3s 87ms/step - loss: 0.0058\n",
      "Epoch 11/100\n",
      "39/39 [==============================] - 3s 85ms/step - loss: 0.0050\n",
      "Epoch 12/100\n",
      "39/39 [==============================] - 3s 84ms/step - loss: 0.0048\n",
      "Epoch 13/100\n",
      "39/39 [==============================] - 3s 82ms/step - loss: 0.0049\n",
      "Epoch 14/100\n",
      "39/39 [==============================] - 3s 86ms/step - loss: 0.0051\n",
      "Epoch 15/100\n",
      "39/39 [==============================] - 3s 83ms/step - loss: 0.0045\n",
      "Epoch 16/100\n",
      "39/39 [==============================] - 3s 84ms/step - loss: 0.0051\n",
      "Epoch 17/100\n",
      "39/39 [==============================] - 3s 83ms/step - loss: 0.0042\n",
      "Epoch 18/100\n",
      "39/39 [==============================] - 3s 88ms/step - loss: 0.0046\n",
      "Epoch 19/100\n",
      "39/39 [==============================] - 3s 84ms/step - loss: 0.0048\n",
      "Epoch 20/100\n",
      "39/39 [==============================] - 3s 84ms/step - loss: 0.0040\n",
      "Epoch 21/100\n",
      "39/39 [==============================] - 3s 86ms/step - loss: 0.0041\n",
      "Epoch 22/100\n",
      "39/39 [==============================] - 3s 89ms/step - loss: 0.0042\n",
      "Epoch 23/100\n",
      "39/39 [==============================] - 3s 84ms/step - loss: 0.0046\n",
      "Epoch 24/100\n",
      "39/39 [==============================] - 3s 84ms/step - loss: 0.0039\n",
      "Epoch 25/100\n",
      "39/39 [==============================] - 3s 86ms/step - loss: 0.0036\n",
      "Epoch 26/100\n",
      "39/39 [==============================] - 3s 88ms/step - loss: 0.0038\n",
      "Epoch 27/100\n",
      "39/39 [==============================] - 3s 85ms/step - loss: 0.0038\n",
      "Epoch 28/100\n",
      "39/39 [==============================] - 3s 85ms/step - loss: 0.0032\n",
      "Epoch 29/100\n",
      "39/39 [==============================] - 3s 87ms/step - loss: 0.0033\n",
      "Epoch 30/100\n",
      "39/39 [==============================] - 3s 85ms/step - loss: 0.0037\n",
      "Epoch 31/100\n",
      "39/39 [==============================] - 3s 85ms/step - loss: 0.0041\n",
      "Epoch 32/100\n",
      "39/39 [==============================] - 3s 84ms/step - loss: 0.0032\n",
      "Epoch 33/100\n",
      "39/39 [==============================] - 3s 89ms/step - loss: 0.0032\n",
      "Epoch 34/100\n",
      "39/39 [==============================] - 3s 84ms/step - loss: 0.0032\n",
      "Epoch 35/100\n",
      "39/39 [==============================] - 3s 83ms/step - loss: 0.0029\n",
      "Epoch 36/100\n",
      "39/39 [==============================] - 3s 83ms/step - loss: 0.0033\n",
      "Epoch 37/100\n",
      "39/39 [==============================] - 3s 88ms/step - loss: 0.0031\n",
      "Epoch 38/100\n",
      "39/39 [==============================] - 3s 84ms/step - loss: 0.0031\n",
      "Epoch 39/100\n",
      "39/39 [==============================] - 3s 83ms/step - loss: 0.0030\n",
      "Epoch 40/100\n",
      "39/39 [==============================] - 3s 85ms/step - loss: 0.0031\n",
      "Epoch 41/100\n",
      "39/39 [==============================] - 3s 88ms/step - loss: 0.0032\n",
      "Epoch 42/100\n",
      "39/39 [==============================] - 3s 85ms/step - loss: 0.0033\n",
      "Epoch 43/100\n",
      "39/39 [==============================] - 3s 85ms/step - loss: 0.0029\n",
      "Epoch 44/100\n",
      "39/39 [==============================] - 3s 88ms/step - loss: 0.0026\n",
      "Epoch 45/100\n",
      "39/39 [==============================] - 3s 87ms/step - loss: 0.0027\n",
      "Epoch 46/100\n",
      "39/39 [==============================] - 3s 85ms/step - loss: 0.0030\n",
      "Epoch 47/100\n",
      "39/39 [==============================] - 3s 86ms/step - loss: 0.0028\n",
      "Epoch 48/100\n",
      "39/39 [==============================] - 4s 90ms/step - loss: 0.0027\n",
      "Epoch 49/100\n",
      "39/39 [==============================] - 3s 87ms/step - loss: 0.0027\n",
      "Epoch 50/100\n",
      "39/39 [==============================] - 3s 85ms/step - loss: 0.0026\n",
      "Epoch 51/100\n",
      "39/39 [==============================] - 3s 85ms/step - loss: 0.0025\n",
      "Epoch 52/100\n",
      "39/39 [==============================] - 3s 88ms/step - loss: 0.0025\n",
      "Epoch 53/100\n",
      "39/39 [==============================] - 3s 86ms/step - loss: 0.0025\n",
      "Epoch 54/100\n",
      "39/39 [==============================] - 3s 86ms/step - loss: 0.0026\n",
      "Epoch 55/100\n",
      "39/39 [==============================] - 3s 89ms/step - loss: 0.0024\n",
      "Epoch 56/100\n",
      "39/39 [==============================] - 4s 90ms/step - loss: 0.0026\n",
      "Epoch 57/100\n",
      "39/39 [==============================] - 3s 86ms/step - loss: 0.0024\n",
      "Epoch 58/100\n",
      "39/39 [==============================] - 3s 87ms/step - loss: 0.0024\n",
      "Epoch 59/100\n",
      "39/39 [==============================] - 4s 91ms/step - loss: 0.0026\n",
      "Epoch 60/100\n",
      "39/39 [==============================] - 3s 86ms/step - loss: 0.0024\n",
      "Epoch 61/100\n",
      "39/39 [==============================] - 3s 85ms/step - loss: 0.0021\n",
      "Epoch 62/100\n",
      "39/39 [==============================] - 3s 84ms/step - loss: 0.0024\n",
      "Epoch 63/100\n",
      "39/39 [==============================] - 3s 88ms/step - loss: 0.0022\n",
      "Epoch 64/100\n",
      "39/39 [==============================] - 3s 85ms/step - loss: 0.0024\n",
      "Epoch 65/100\n",
      "39/39 [==============================] - 3s 85ms/step - loss: 0.0023\n",
      "Epoch 66/100\n",
      "39/39 [==============================] - 3s 88ms/step - loss: 0.0021\n",
      "Epoch 67/100\n",
      "39/39 [==============================] - 3s 88ms/step - loss: 0.0022\n",
      "Epoch 68/100\n",
      "39/39 [==============================] - 3s 86ms/step - loss: 0.0022\n",
      "Epoch 69/100\n",
      "39/39 [==============================] - 3s 86ms/step - loss: 0.0022\n",
      "Epoch 70/100\n",
      "39/39 [==============================] - 3s 88ms/step - loss: 0.0021\n",
      "Epoch 71/100\n",
      "39/39 [==============================] - 4s 91ms/step - loss: 0.0024\n",
      "Epoch 72/100\n",
      "39/39 [==============================] - 3s 88ms/step - loss: 0.0021\n",
      "Epoch 73/100\n",
      "39/39 [==============================] - 3s 86ms/step - loss: 0.0022\n",
      "Epoch 74/100\n",
      "39/39 [==============================] - 4s 91ms/step - loss: 0.0020\n",
      "Epoch 75/100\n",
      "39/39 [==============================] - 3s 86ms/step - loss: 0.0020\n",
      "Epoch 76/100\n",
      "39/39 [==============================] - 3s 87ms/step - loss: 0.0020\n",
      "Epoch 77/100\n",
      "39/39 [==============================] - 3s 87ms/step - loss: 0.0019\n",
      "Epoch 78/100\n",
      "39/39 [==============================] - 3s 90ms/step - loss: 0.0021\n",
      "Epoch 79/100\n",
      "39/39 [==============================] - 3s 86ms/step - loss: 0.0021\n",
      "Epoch 80/100\n",
      "39/39 [==============================] - 3s 87ms/step - loss: 0.0018\n",
      "Epoch 81/100\n",
      "39/39 [==============================] - 3s 89ms/step - loss: 0.0019\n",
      "Epoch 82/100\n",
      "39/39 [==============================] - 3s 87ms/step - loss: 0.0018\n",
      "Epoch 83/100\n",
      "39/39 [==============================] - 3s 85ms/step - loss: 0.0019\n",
      "Epoch 84/100\n",
      "39/39 [==============================] - 3s 86ms/step - loss: 0.0019\n",
      "Epoch 85/100\n",
      "39/39 [==============================] - 4s 90ms/step - loss: 0.0019\n",
      "Epoch 86/100\n",
      "39/39 [==============================] - 3s 85ms/step - loss: 0.0018\n",
      "Epoch 87/100\n",
      "39/39 [==============================] - 3s 85ms/step - loss: 0.0019\n",
      "Epoch 88/100\n",
      "39/39 [==============================] - 3s 85ms/step - loss: 0.0017\n",
      "Epoch 89/100\n",
      "39/39 [==============================] - 3s 89ms/step - loss: 0.0016\n",
      "Epoch 90/100\n",
      "39/39 [==============================] - 3s 86ms/step - loss: 0.0017\n",
      "Epoch 91/100\n",
      "39/39 [==============================] - 3s 85ms/step - loss: 0.0017\n",
      "Epoch 92/100\n",
      "39/39 [==============================] - 3s 88ms/step - loss: 0.0016\n",
      "Epoch 93/100\n",
      "39/39 [==============================] - 3s 88ms/step - loss: 0.0017\n",
      "Epoch 94/100\n",
      "39/39 [==============================] - 3s 86ms/step - loss: 0.0016\n",
      "Epoch 95/100\n",
      "39/39 [==============================] - 3s 86ms/step - loss: 0.0016\n",
      "Epoch 96/100\n",
      "39/39 [==============================] - 3s 89ms/step - loss: 0.0015\n",
      "Epoch 97/100\n",
      "39/39 [==============================] - 3s 86ms/step - loss: 0.0015\n",
      "Epoch 98/100\n",
      "39/39 [==============================] - 3s 86ms/step - loss: 0.0017\n",
      "Epoch 99/100\n",
      "39/39 [==============================] - 3s 87ms/step - loss: 0.0018\n",
      "Epoch 100/100\n",
      "39/39 [==============================] - 4s 90ms/step - loss: 0.0017\n"
     ]
    },
    {
     "data": {
      "text/plain": [
       "<keras.src.callbacks.History at 0x7be8c8329e40>"
      ]
     },
     "execution_count": 41,
     "metadata": {},
     "output_type": "execute_result"
    }
   ],
   "source": [
    "regressor.fit(X_train,\n",
    "              y_train,\n",
    "              epochs = 100, # number of iterations\n",
    "              batch_size = 32) # 32 stock prices for each iteration"
   ]
  },
  {
   "cell_type": "markdown",
   "metadata": {
    "id": "6WwWL7BBa80T"
   },
   "source": [
    "## Making the predictions and visualizing the results"
   ]
  },
  {
   "cell_type": "markdown",
   "metadata": {
    "id": "Wjsz6skjdRbq"
   },
   "source": [
    "For testing, we are going to use data from march 2024, create the prediction and then compare it with the actual data"
   ]
  },
  {
   "cell_type": "code",
   "execution_count": null,
   "metadata": {
    "colab": {
     "base_uri": "https://localhost:8080/"
    },
    "id": "jnQsGsszdYrg",
    "outputId": "1a86d2f2-6c33-4b65-dc70-e8cec8ae03eb"
   },
   "outputs": [
    {
     "name": "stdout",
     "output_type": "stream",
     "text": [
      "Date\n",
      "2024-03-01 00:00:00-05:00    16274.940430\n",
      "2024-03-04 00:00:00-05:00    16207.509766\n",
      "2024-03-05 00:00:00-05:00    15939.589844\n",
      "2024-03-06 00:00:00-05:00    16031.540039\n",
      "2024-03-07 00:00:00-05:00    16273.379883\n",
      "2024-03-08 00:00:00-05:00    16085.110352\n",
      "2024-03-11 00:00:00-04:00    16019.269531\n",
      "2024-03-12 00:00:00-04:00    16265.639648\n",
      "2024-03-13 00:00:00-04:00    16177.769531\n",
      "2024-03-14 00:00:00-04:00    16128.530273\n",
      "2024-03-15 00:00:00-04:00    15973.169922\n",
      "2024-03-18 00:00:00-04:00    16103.450195\n",
      "2024-03-19 00:00:00-04:00    16166.790039\n",
      "2024-03-20 00:00:00-04:00    16369.410156\n",
      "2024-03-21 00:00:00-04:00    16401.839844\n",
      "2024-03-22 00:00:00-04:00    16428.820312\n",
      "2024-03-25 00:00:00-04:00    16384.470703\n",
      "2024-03-26 00:00:00-04:00    16315.700195\n",
      "2024-03-27 00:00:00-04:00    16399.519531\n",
      "2024-03-28 00:00:00-04:00    16379.459961\n",
      "Name: Close, dtype: float64\n"
     ]
    }
   ],
   "source": [
    "import yfinance as yf\n",
    "\n",
    "nasdaq_ticker = \"^IXIC\"\n",
    "nasdaq = yf.Ticker(nasdaq_ticker)\n",
    "start_date = \"2024-03-01\"\n",
    "end_date = \"2024-03-31\"\n",
    "historical_data = nasdaq.history(start=start_date, end=end_date)\n",
    "close_prices_test = historical_data['Close']\n",
    "print(close_prices_test)"
   ]
  },
  {
   "cell_type": "code",
   "execution_count": null,
   "metadata": {
    "colab": {
     "base_uri": "https://localhost:8080/",
     "height": 676
    },
    "id": "9UW4FyFAiPZc",
    "outputId": "88ec48be-3f46-4d04-dff3-f0782c86d01b"
   },
   "outputs": [
    {
     "data": {
      "application/vnd.google.colaboratory.intrinsic+json": {
       "summary": "{\n  \"name\": \"close_prices_test\",\n  \"rows\": 20,\n  \"fields\": [\n    {\n      \"column\": \"Close\",\n      \"properties\": {\n        \"dtype\": \"number\",\n        \"std\": 155.73537388555596,\n        \"min\": 15939.58984375,\n        \"max\": 16428.8203125,\n        \"num_unique_values\": 20,\n        \"samples\": [\n          16274.9404296875,\n          16315.7001953125,\n          16428.8203125\n        ],\n        \"semantic_type\": \"\",\n        \"description\": \"\"\n      }\n    }\n  ]\n}",
       "type": "dataframe"
      },
      "text/html": [
       "\n",
       "  <div id=\"df-c6cdcc7e-c9c2-4c2d-aada-7ec4460f6b8a\" class=\"colab-df-container\">\n",
       "    <div>\n",
       "<style scoped>\n",
       "    .dataframe tbody tr th:only-of-type {\n",
       "        vertical-align: middle;\n",
       "    }\n",
       "\n",
       "    .dataframe tbody tr th {\n",
       "        vertical-align: top;\n",
       "    }\n",
       "\n",
       "    .dataframe thead th {\n",
       "        text-align: right;\n",
       "    }\n",
       "</style>\n",
       "<table border=\"1\" class=\"dataframe\">\n",
       "  <thead>\n",
       "    <tr style=\"text-align: right;\">\n",
       "      <th></th>\n",
       "      <th>Close</th>\n",
       "    </tr>\n",
       "  </thead>\n",
       "  <tbody>\n",
       "    <tr>\n",
       "      <th>0</th>\n",
       "      <td>16274.940430</td>\n",
       "    </tr>\n",
       "    <tr>\n",
       "      <th>1</th>\n",
       "      <td>16207.509766</td>\n",
       "    </tr>\n",
       "    <tr>\n",
       "      <th>2</th>\n",
       "      <td>15939.589844</td>\n",
       "    </tr>\n",
       "    <tr>\n",
       "      <th>3</th>\n",
       "      <td>16031.540039</td>\n",
       "    </tr>\n",
       "    <tr>\n",
       "      <th>4</th>\n",
       "      <td>16273.379883</td>\n",
       "    </tr>\n",
       "    <tr>\n",
       "      <th>5</th>\n",
       "      <td>16085.110352</td>\n",
       "    </tr>\n",
       "    <tr>\n",
       "      <th>6</th>\n",
       "      <td>16019.269531</td>\n",
       "    </tr>\n",
       "    <tr>\n",
       "      <th>7</th>\n",
       "      <td>16265.639648</td>\n",
       "    </tr>\n",
       "    <tr>\n",
       "      <th>8</th>\n",
       "      <td>16177.769531</td>\n",
       "    </tr>\n",
       "    <tr>\n",
       "      <th>9</th>\n",
       "      <td>16128.530273</td>\n",
       "    </tr>\n",
       "    <tr>\n",
       "      <th>10</th>\n",
       "      <td>15973.169922</td>\n",
       "    </tr>\n",
       "    <tr>\n",
       "      <th>11</th>\n",
       "      <td>16103.450195</td>\n",
       "    </tr>\n",
       "    <tr>\n",
       "      <th>12</th>\n",
       "      <td>16166.790039</td>\n",
       "    </tr>\n",
       "    <tr>\n",
       "      <th>13</th>\n",
       "      <td>16369.410156</td>\n",
       "    </tr>\n",
       "    <tr>\n",
       "      <th>14</th>\n",
       "      <td>16401.839844</td>\n",
       "    </tr>\n",
       "    <tr>\n",
       "      <th>15</th>\n",
       "      <td>16428.820312</td>\n",
       "    </tr>\n",
       "    <tr>\n",
       "      <th>16</th>\n",
       "      <td>16384.470703</td>\n",
       "    </tr>\n",
       "    <tr>\n",
       "      <th>17</th>\n",
       "      <td>16315.700195</td>\n",
       "    </tr>\n",
       "    <tr>\n",
       "      <th>18</th>\n",
       "      <td>16399.519531</td>\n",
       "    </tr>\n",
       "    <tr>\n",
       "      <th>19</th>\n",
       "      <td>16379.459961</td>\n",
       "    </tr>\n",
       "  </tbody>\n",
       "</table>\n",
       "</div>\n",
       "    <div class=\"colab-df-buttons\">\n",
       "\n",
       "  <div class=\"colab-df-container\">\n",
       "    <button class=\"colab-df-convert\" onclick=\"convertToInteractive('df-c6cdcc7e-c9c2-4c2d-aada-7ec4460f6b8a')\"\n",
       "            title=\"Convert this dataframe to an interactive table.\"\n",
       "            style=\"display:none;\">\n",
       "\n",
       "  <svg xmlns=\"http://www.w3.org/2000/svg\" height=\"24px\" viewBox=\"0 -960 960 960\">\n",
       "    <path d=\"M120-120v-720h720v720H120Zm60-500h600v-160H180v160Zm220 220h160v-160H400v160Zm0 220h160v-160H400v160ZM180-400h160v-160H180v160Zm440 0h160v-160H620v160ZM180-180h160v-160H180v160Zm440 0h160v-160H620v160Z\"/>\n",
       "  </svg>\n",
       "    </button>\n",
       "\n",
       "  <style>\n",
       "    .colab-df-container {\n",
       "      display:flex;\n",
       "      gap: 12px;\n",
       "    }\n",
       "\n",
       "    .colab-df-convert {\n",
       "      background-color: #E8F0FE;\n",
       "      border: none;\n",
       "      border-radius: 50%;\n",
       "      cursor: pointer;\n",
       "      display: none;\n",
       "      fill: #1967D2;\n",
       "      height: 32px;\n",
       "      padding: 0 0 0 0;\n",
       "      width: 32px;\n",
       "    }\n",
       "\n",
       "    .colab-df-convert:hover {\n",
       "      background-color: #E2EBFA;\n",
       "      box-shadow: 0px 1px 2px rgba(60, 64, 67, 0.3), 0px 1px 3px 1px rgba(60, 64, 67, 0.15);\n",
       "      fill: #174EA6;\n",
       "    }\n",
       "\n",
       "    .colab-df-buttons div {\n",
       "      margin-bottom: 4px;\n",
       "    }\n",
       "\n",
       "    [theme=dark] .colab-df-convert {\n",
       "      background-color: #3B4455;\n",
       "      fill: #D2E3FC;\n",
       "    }\n",
       "\n",
       "    [theme=dark] .colab-df-convert:hover {\n",
       "      background-color: #434B5C;\n",
       "      box-shadow: 0px 1px 3px 1px rgba(0, 0, 0, 0.15);\n",
       "      filter: drop-shadow(0px 1px 2px rgba(0, 0, 0, 0.3));\n",
       "      fill: #FFFFFF;\n",
       "    }\n",
       "  </style>\n",
       "\n",
       "    <script>\n",
       "      const buttonEl =\n",
       "        document.querySelector('#df-c6cdcc7e-c9c2-4c2d-aada-7ec4460f6b8a button.colab-df-convert');\n",
       "      buttonEl.style.display =\n",
       "        google.colab.kernel.accessAllowed ? 'block' : 'none';\n",
       "\n",
       "      async function convertToInteractive(key) {\n",
       "        const element = document.querySelector('#df-c6cdcc7e-c9c2-4c2d-aada-7ec4460f6b8a');\n",
       "        const dataTable =\n",
       "          await google.colab.kernel.invokeFunction('convertToInteractive',\n",
       "                                                    [key], {});\n",
       "        if (!dataTable) return;\n",
       "\n",
       "        const docLinkHtml = 'Like what you see? Visit the ' +\n",
       "          '<a target=\"_blank\" href=https://colab.research.google.com/notebooks/data_table.ipynb>data table notebook</a>'\n",
       "          + ' to learn more about interactive tables.';\n",
       "        element.innerHTML = '';\n",
       "        dataTable['output_type'] = 'display_data';\n",
       "        await google.colab.output.renderOutput(dataTable, element);\n",
       "        const docLink = document.createElement('div');\n",
       "        docLink.innerHTML = docLinkHtml;\n",
       "        element.appendChild(docLink);\n",
       "      }\n",
       "    </script>\n",
       "  </div>\n",
       "\n",
       "\n",
       "<div id=\"df-18c45eaa-67f4-4b87-889b-9c3103dcedea\">\n",
       "  <button class=\"colab-df-quickchart\" onclick=\"quickchart('df-18c45eaa-67f4-4b87-889b-9c3103dcedea')\"\n",
       "            title=\"Suggest charts\"\n",
       "            style=\"display:none;\">\n",
       "\n",
       "<svg xmlns=\"http://www.w3.org/2000/svg\" height=\"24px\"viewBox=\"0 0 24 24\"\n",
       "     width=\"24px\">\n",
       "    <g>\n",
       "        <path d=\"M19 3H5c-1.1 0-2 .9-2 2v14c0 1.1.9 2 2 2h14c1.1 0 2-.9 2-2V5c0-1.1-.9-2-2-2zM9 17H7v-7h2v7zm4 0h-2V7h2v10zm4 0h-2v-4h2v4z\"/>\n",
       "    </g>\n",
       "</svg>\n",
       "  </button>\n",
       "\n",
       "<style>\n",
       "  .colab-df-quickchart {\n",
       "      --bg-color: #E8F0FE;\n",
       "      --fill-color: #1967D2;\n",
       "      --hover-bg-color: #E2EBFA;\n",
       "      --hover-fill-color: #174EA6;\n",
       "      --disabled-fill-color: #AAA;\n",
       "      --disabled-bg-color: #DDD;\n",
       "  }\n",
       "\n",
       "  [theme=dark] .colab-df-quickchart {\n",
       "      --bg-color: #3B4455;\n",
       "      --fill-color: #D2E3FC;\n",
       "      --hover-bg-color: #434B5C;\n",
       "      --hover-fill-color: #FFFFFF;\n",
       "      --disabled-bg-color: #3B4455;\n",
       "      --disabled-fill-color: #666;\n",
       "  }\n",
       "\n",
       "  .colab-df-quickchart {\n",
       "    background-color: var(--bg-color);\n",
       "    border: none;\n",
       "    border-radius: 50%;\n",
       "    cursor: pointer;\n",
       "    display: none;\n",
       "    fill: var(--fill-color);\n",
       "    height: 32px;\n",
       "    padding: 0;\n",
       "    width: 32px;\n",
       "  }\n",
       "\n",
       "  .colab-df-quickchart:hover {\n",
       "    background-color: var(--hover-bg-color);\n",
       "    box-shadow: 0 1px 2px rgba(60, 64, 67, 0.3), 0 1px 3px 1px rgba(60, 64, 67, 0.15);\n",
       "    fill: var(--button-hover-fill-color);\n",
       "  }\n",
       "\n",
       "  .colab-df-quickchart-complete:disabled,\n",
       "  .colab-df-quickchart-complete:disabled:hover {\n",
       "    background-color: var(--disabled-bg-color);\n",
       "    fill: var(--disabled-fill-color);\n",
       "    box-shadow: none;\n",
       "  }\n",
       "\n",
       "  .colab-df-spinner {\n",
       "    border: 2px solid var(--fill-color);\n",
       "    border-color: transparent;\n",
       "    border-bottom-color: var(--fill-color);\n",
       "    animation:\n",
       "      spin 1s steps(1) infinite;\n",
       "  }\n",
       "\n",
       "  @keyframes spin {\n",
       "    0% {\n",
       "      border-color: transparent;\n",
       "      border-bottom-color: var(--fill-color);\n",
       "      border-left-color: var(--fill-color);\n",
       "    }\n",
       "    20% {\n",
       "      border-color: transparent;\n",
       "      border-left-color: var(--fill-color);\n",
       "      border-top-color: var(--fill-color);\n",
       "    }\n",
       "    30% {\n",
       "      border-color: transparent;\n",
       "      border-left-color: var(--fill-color);\n",
       "      border-top-color: var(--fill-color);\n",
       "      border-right-color: var(--fill-color);\n",
       "    }\n",
       "    40% {\n",
       "      border-color: transparent;\n",
       "      border-right-color: var(--fill-color);\n",
       "      border-top-color: var(--fill-color);\n",
       "    }\n",
       "    60% {\n",
       "      border-color: transparent;\n",
       "      border-right-color: var(--fill-color);\n",
       "    }\n",
       "    80% {\n",
       "      border-color: transparent;\n",
       "      border-right-color: var(--fill-color);\n",
       "      border-bottom-color: var(--fill-color);\n",
       "    }\n",
       "    90% {\n",
       "      border-color: transparent;\n",
       "      border-bottom-color: var(--fill-color);\n",
       "    }\n",
       "  }\n",
       "</style>\n",
       "\n",
       "  <script>\n",
       "    async function quickchart(key) {\n",
       "      const quickchartButtonEl =\n",
       "        document.querySelector('#' + key + ' button');\n",
       "      quickchartButtonEl.disabled = true;  // To prevent multiple clicks.\n",
       "      quickchartButtonEl.classList.add('colab-df-spinner');\n",
       "      try {\n",
       "        const charts = await google.colab.kernel.invokeFunction(\n",
       "            'suggestCharts', [key], {});\n",
       "      } catch (error) {\n",
       "        console.error('Error during call to suggestCharts:', error);\n",
       "      }\n",
       "      quickchartButtonEl.classList.remove('colab-df-spinner');\n",
       "      quickchartButtonEl.classList.add('colab-df-quickchart-complete');\n",
       "    }\n",
       "    (() => {\n",
       "      let quickchartButtonEl =\n",
       "        document.querySelector('#df-18c45eaa-67f4-4b87-889b-9c3103dcedea button');\n",
       "      quickchartButtonEl.style.display =\n",
       "        google.colab.kernel.accessAllowed ? 'block' : 'none';\n",
       "    })();\n",
       "  </script>\n",
       "</div>\n",
       "\n",
       "    </div>\n",
       "  </div>\n"
      ],
      "text/plain": [
       "           Close\n",
       "0   16274.940430\n",
       "1   16207.509766\n",
       "2   15939.589844\n",
       "3   16031.540039\n",
       "4   16273.379883\n",
       "5   16085.110352\n",
       "6   16019.269531\n",
       "7   16265.639648\n",
       "8   16177.769531\n",
       "9   16128.530273\n",
       "10  15973.169922\n",
       "11  16103.450195\n",
       "12  16166.790039\n",
       "13  16369.410156\n",
       "14  16401.839844\n",
       "15  16428.820312\n",
       "16  16384.470703\n",
       "17  16315.700195\n",
       "18  16399.519531\n",
       "19  16379.459961"
      ]
     },
     "execution_count": 43,
     "metadata": {},
     "output_type": "execute_result"
    }
   ],
   "source": [
    "close_prices_test.reset_index().iloc[:,1:2]"
   ]
  },
  {
   "cell_type": "code",
   "execution_count": null,
   "metadata": {
    "id": "4h1OlnyLeSIr"
   },
   "outputs": [],
   "source": [
    "test_set = close_prices_test.reset_index().iloc[:,1:2].values"
   ]
  },
  {
   "cell_type": "markdown",
   "metadata": {
    "id": "ux6aBw1VhrEu"
   },
   "source": [
    "Here we have nasdaq value for march 2024, the data that we want to predict"
   ]
  },
  {
   "cell_type": "code",
   "execution_count": null,
   "metadata": {
    "colab": {
     "base_uri": "https://localhost:8080/",
     "height": 707
    },
    "id": "1RwnCen-e7ww",
    "outputId": "165fee9d-3377-42a1-c2e1-e78af6e47476"
   },
   "outputs": [
    {
     "data": {
      "image/png": "[encoded data removed]",
      "text/plain": [
       "<Figure size 1800x700 with 1 Axes>"
      ]
     },
     "metadata": {},
     "output_type": "display_data"
    }
   ],
   "source": [
    "plt.figure(figsize=(18,7))\n",
    "close_prices_test.plot()\n",
    "plt.title(\"Nasdaq Evolution\")\n",
    "plt.ylabel(\"Close Price\")\n",
    "plt.grid(True)\n",
    "plt.tight_layout()"
   ]
  },
  {
   "cell_type": "markdown",
   "metadata": {
    "id": "R45DmE6HIAdf"
   },
   "source": [
    "### Predicting March 2024"
   ]
  },
  {
   "cell_type": "markdown",
   "metadata": {
    "id": "1q6oRU_CIDZa"
   },
   "source": [
    "- The first important point is that to predict the price of day t, I need the 60 prices prior to that day t\n",
    "- To have the previous 60 days we will need the training and testing set, since we will need some of the 60 days of the training set and we will also need stock prices of the testing set\n",
    "- We need to concatenate the training and testing set to have the necessary days\n",
    "- We need to make a special concat, since the training set is scaled and the test set is not, and 'we cannot scale the test set', since we need the values as they are to make the predictions\n",
    "- We have to concatenate the original data and with this concatenation we will have the inputs of each prediction (the 60 days prior to day t), and that will be what we will scale, this way we will only scale the inputs and not the values of the testing set\n",
    "- In summary `we have to scale the inputs values`"
   ]
  },
  {
   "cell_type": "code",
   "execution_count": null,
   "metadata": {
    "colab": {
     "base_uri": "https://localhost:8080/"
    },
    "id": "OSmalhuThzCA",
    "outputId": "1343d745-1f95-4856-f672-10876e21adb5"
   },
   "outputs": [
    {
     "name": "stdout",
     "output_type": "stream",
     "text": [
      "1/1 [==============================] - 1s 1s/step\n"
     ]
    }
   ],
   "source": [
    "dataset_total = pd.concat((close_prices.reset_index().iloc[:,1:2]['Close'], close_prices_test.reset_index().iloc[:,1:2]['Close']), axis = 0)\n",
    "inputs = dataset_total[len(dataset_total) - len(close_prices_test) - 60:].values\n",
    "inputs = inputs.reshape(-1,1)\n",
    "inputs = sc.transform(inputs)\n",
    "\n",
    "X_test = []\n",
    "for i in range(60, 80):\n",
    "    X_test.append(inputs[i-60:i, 0])\n",
    "\n",
    "X_test = np.array(X_test)\n",
    "X_test = np.reshape(X_test, (X_test.shape[0], X_test.shape[1], 1))\n",
    "predicted_stock_price = regressor.predict(X_test)\n",
    "predicted_stock_price = sc.inverse_transform(predicted_stock_price)"
   ]
  },
  {
   "cell_type": "markdown",
   "metadata": {
    "id": "DsVNqdy0i3Zh"
   },
   "source": [
    "Visualising the results"
   ]
  },
  {
   "cell_type": "code",
   "execution_count": null,
   "metadata": {
    "colab": {
     "base_uri": "https://localhost:8080/",
     "height": 707
    },
    "id": "bipBdMbki5VE",
    "outputId": "4845c3b5-8fb8-4f8c-8cfa-196a12e35573"
   },
   "outputs": [
    {
     "data": {
      "image/png": "[encoded data removed]",
      "text/plain": [
       "<Figure size 1800x700 with 1 Axes>"
      ]
     },
     "metadata": {},
     "output_type": "display_data"
    }
   ],
   "source": [
    "plt.figure(figsize=(18,7))\n",
    "plt.plot(test_set, color = 'red', label = 'Real Nasdaq Stock Price')\n",
    "plt.plot(predicted_stock_price, color = 'blue', label = 'Predicted Nasdaq Stock Price')\n",
    "plt.title('Nasdaq Prediction')\n",
    "plt.xlabel('Time')\n",
    "plt.ylabel('Nasdaq')\n",
    "plt.legend()\n",
    "plt.grid(True)\n",
    "plt.tight_layout()\n",
    "plt.show()"
   ]
  },
  {
   "cell_type": "markdown",
   "metadata": {
    "id": "T1pfzPYHkpdh"
   },
   "source": [
    "As we can see in the results, we have the model prediction for March 2024 and the real values for March 2024. Although the model does not make a very precise prediction of the price (something extremely difficult to achieve, and also taking into consideration that we only use one variable as information for this model), we can see that it does a good job capturing the general trend of the index, in particular on the tenth day of March, so we are satisfied with the results of this model, despite the complexity of the problem"
   ]
  },
  {
   "cell_type": "markdown",
   "metadata": {
    "id": "4rfZ5o45RfLs"
   },
   "source": [
    "## Conclusion"
   ]
  },
  {
   "cell_type": "markdown",
   "metadata": {
    "id": "fHpJVwZ7RgnP"
   },
   "source": [
    "In conclusion, it is important to emphasize that this type of model serves to predict the trend of future prices rather than the price itself. Based on the results, we believe the model performed well when compared to real data, especially considering that we only used a single input variable. Therefore, we recommend incorporating more input variables in the future to potentially achieve even better results."
   ]
  },
  {
   "cell_type": "markdown",
   "metadata": {},
   "source": [
    "# References\n",
    "\n",
    "Yashpal 2022, Fraud Detection - Credit Card, Kaggle, https://www.kaggle.com/datasets/yashpaloswal/fraud-detection-credit-card\n",
    "\n",
    "yfinance. (2024) finance pypi. https://pypi.org/project/yfinance/"
   ]
  }
 ],
 "metadata": {
  "colab": {
   "machine_shape": "hm",
   "provenance": []
  },
  "kernelspec": {
   "display_name": "Python 3 (ipykernel)",
   "language": "python",
   "name": "python3"
  },
  "language_info": {
   "codemirror_mode": {
    "name": "ipython",
    "version": 3
   },
   "file_extension": ".py",
   "mimetype": "text/x-python",
   "name": "python",
   "nbconvert_exporter": "python",
   "pygments_lexer": "ipython3",
   "version": "3.11.5"
  }
 },
 "nbformat": 4,
 "nbformat_minor": 1
}
